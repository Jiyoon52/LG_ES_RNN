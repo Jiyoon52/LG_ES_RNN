{
 "cells": [
  {
   "cell_type": "code",
   "execution_count": null,
   "metadata": {
    "id": "UnbBtQ4OeAoS",
    "outputId": "0d680aa1-bbf6-4b69-f8ea-9b48fb8142c1"
   },
   "outputs": [],
   "source": [
    "!pip install IPython\n",
    "from IPython.display import Image"
   ]
  },
  {
   "cell_type": "code",
   "execution_count": null,
   "metadata": {
    "id": "rzGesIGdeAoU",
    "outputId": "abca6e9f-b182-402c-d357-09bf521a1d3d"
   },
   "outputs": [],
   "source": [
    "!pip install pandas_datareader\n",
    "!pip install yfinance"
   ]
  },
  {
   "cell_type": "code",
   "execution_count": null,
   "metadata": {
    "id": "jAM51Z7znq_V"
   },
   "outputs": [],
   "source": [
    "!git clone https://github.com/Jiyoon52/LG_ES_RNN.git # colab 사용시"
   ]
  },
  {
   "cell_type": "markdown",
   "metadata": {
    "id": "9uXbP9sNnq_S"
   },
   "source": [
    "# [Recurrent Neural Networks - 회귀 실습]\n",
    "## '''Answer''' 올바르게 풀어보기!"
   ]
  },
  {
   "cell_type": "markdown",
   "metadata": {
    "id": "QL7l9L4Jnq_T"
   },
   "source": [
    "##### jupyter notebook 단축키\n",
    "\n",
    "- ctrl+enter: 셀 실행   \n",
    "- shift+enter: 셀 실행 및 다음 셀 이동   \n",
    "- alt+enter: 셀 실행, 다음 셀 이동, 새로운 셀 생성\n",
    "- a: 상단에 새로운 셀 만들기\n",
    "- b: 하단에 새로운 셀 만들기\n",
    "- dd: 셀 삭제(x: 셀 삭제)"
   ]
  },
  {
   "cell_type": "markdown",
   "metadata": {
    "id": "Fr9IowEpnq_U"
   },
   "source": [
    "### 1. 모듈 불러오기"
   ]
  },
  {
   "cell_type": "code",
   "execution_count": null,
   "metadata": {
    "id": "9ueLs11Jnq_W"
   },
   "outputs": [],
   "source": [
    "import pandas as pd\n",
    "import numpy as np\n",
    "from sklearn.model_selection import train_test_split\n",
    "\n",
    "import torch\n",
    "import torch.nn as nn\n",
    "import torch.optim as optim\n",
    "\n",
    "import time\n",
    "import copy\n",
    "\n",
    "import random\n",
    "\n",
    "import matplotlib.pyplot as plt     \n",
    "\n",
    "# regression 평가지표\n",
    "from sklearn.metrics import mean_squared_error, mean_absolute_error, r2_score\n",
    "def mean_absolute_percentage_error(y_true, y_pred):\n",
    "    mape = np.mean(np.abs((y_true - y_pred)/y_true))*100\n",
    "    return mape\n",
    "\n",
    "from sklearn.preprocessing import MinMaxScaler\n",
    "\n",
    "import pandas_datareader.data as pdr\n",
    "import yfinance as yfin\n",
    "\n",
    "import warnings\n",
    "warnings.filterwarnings(action='ignore') "
   ]
  },
  {
   "cell_type": "markdown",
   "metadata": {
    "id": "KL9O-z5Pnq_Y"
   },
   "source": [
    "### 2. 데이터 불러오기"
   ]
  },
  {
   "cell_type": "code",
   "execution_count": null,
   "metadata": {
    "id": "zCBtxjCbeAoc"
   },
   "outputs": [],
   "source": [
    "random_seed = 2022\n",
    "torch.manual_seed(random_seed)\n",
    "torch.cuda.manual_seed(random_seed)\n",
    "torch.cuda.manual_seed_all(random_seed) # if use multi-GPU\n",
    "torch.backends.cudnn.deterministic = True\n",
    "torch.backends.cudnn.benchmark = False\n",
    "np.random.seed(random_seed)\n",
    "random.seed(random_seed)"
   ]
  },
  {
   "cell_type": "code",
   "execution_count": null,
   "metadata": {
    "id": "y4t-KvVLnq_Z"
   },
   "outputs": [],
   "source": [
    "code_data = pd.read_html('http://kind.krx.co.kr/corpgeneral/corpList.do?method=download&searchType=13', header=0)[0]\n",
    "code_data # 2380 rows × 9 \n",
    "\n",
    "code_data = code_data[['회사명', '종목코드']]\n",
    "code_data = code_data.rename(columns={'회사명': 'name', '종목코드': 'code'})\n",
    "code_data.code = code_data.code.map('{:06d}'.format)\n",
    "\n",
    "yfin.pdr_override()"
   ]
  },
  {
   "cell_type": "code",
   "execution_count": null,
   "metadata": {
    "id": "K3TRGj-jeAoe",
    "outputId": "e62f6c86-8d84-429f-da39-a64fd45da217"
   },
   "outputs": [],
   "source": [
    "code_data"
   ]
  },
  {
   "cell_type": "code",
   "execution_count": null,
   "metadata": {
    "id": "nPO_l93neAoe"
   },
   "outputs": [],
   "source": [
    "def get_code(df, name):\n",
    "    code = df.query(\"name=='{}'\".format(name))['code'].to_string(index=False)\n",
    "    code = code.strip()\n",
    "    return code"
   ]
  },
  {
   "cell_type": "code",
   "execution_count": null,
   "metadata": {
    "id": "kAtlAmm9eAof",
    "outputId": "c9c23031-e3fd-4aa8-ccda-838752030460"
   },
   "outputs": [],
   "source": [
    "stock_code = get_code(code_data, 'LG전자')\n",
    "stock_code = stock_code + '.KS'\n",
    "stock_data = pdr.get_data_yahoo(stock_code)\n",
    "code_data['name']"
   ]
  },
  {
   "cell_type": "code",
   "execution_count": null,
   "metadata": {
    "id": "9Jc-LouOeAof",
    "outputId": "d0bfaba4-7c45-4fa4-c796-bfd4f2223565"
   },
   "outputs": [],
   "source": [
    "stock_data"
   ]
  },
  {
   "cell_type": "markdown",
   "metadata": {
    "id": "qEXesS9Dnq_Z"
   },
   "source": [
    "#### 2.1 Data Exploratory Data Analysis\n",
    "\n",
    "- High: 장 중 제일 높았던 주가(고가)\n",
    "- Low: 장 중 제일 낮았던 주가(저가)\n",
    "- Open: 장 시작 때 주가(시가)\n",
    "- Close: 장 닫을 때 주가(종가)\n",
    "- Volume: 주식 거래량\n",
    "- Adj Close: 주식의 분할, 배당, 배분 등을 고려해 조정한 종가"
   ]
  },
  {
   "cell_type": "code",
   "execution_count": null,
   "metadata": {
    "id": "BKSKQHdqnq_a",
    "outputId": "2841cb86-b4f5-488f-f01d-246d9b761567"
   },
   "outputs": [],
   "source": [
    "stock_data.head() # 상위 5개"
   ]
  },
  {
   "cell_type": "code",
   "execution_count": null,
   "metadata": {
    "id": "e94ovbFlnq_a",
    "outputId": "2ea9cf9d-2d04-49ab-b43d-38eb3bddc7fe"
   },
   "outputs": [],
   "source": [
    "stock_data.tail() # 하위 5개"
   ]
  },
  {
   "cell_type": "code",
   "execution_count": null,
   "metadata": {
    "id": "gqZPizHfnq_b",
    "outputId": "77488a2a-e4b6-47f0-b13b-cc8f70f82129"
   },
   "outputs": [],
   "source": [
    "stock_data.shape # 데이터 차원 확인"
   ]
  },
  {
   "cell_type": "code",
   "execution_count": null,
   "metadata": {
    "id": "Mkym7Av-nq_b",
    "outputId": "b1416670-1cc9-467b-cf79-9faae318c40e"
   },
   "outputs": [],
   "source": [
    "stock_data.describe() # 데이터 통계값 확인"
   ]
  },
  {
   "cell_type": "code",
   "execution_count": null,
   "metadata": {
    "id": "RZXOnWt8eAoi",
    "outputId": "d3886e6f-a42b-43da-ef3d-ba7b6f5611c5"
   },
   "outputs": [],
   "source": [
    "x = stock_data.drop(['Close'], axis=1)\n",
    "y = stock_data[['Close']]\n",
    "\n",
    "fig, ax = plt.subplots(figsize=(12, 6))\n",
    "y.plot(ax = ax)\n",
    "\n",
    "x_train, x_test, y_train, y_test = train_test_split(x, y, test_size=0.1, shuffle=False)\n",
    "\n",
    "print(f'x_train shape is {x_train.shape}')\n",
    "print(f'y_train shape is {y_train.shape}')\n",
    "print('-'*35)\n",
    "print(f'x_test shape is {x_test.shape}')\n",
    "print(f'y_test shape is {y_test.shape}')\n",
    "print('-'*35)\n",
    "print('x_train examples')\n",
    "x_train.head()"
   ]
  },
  {
   "cell_type": "code",
   "execution_count": null,
   "metadata": {
    "id": "dbsqjqq3eAoi",
    "outputId": "0fc50b67-6906-4cee-9230-d45bdc05934a"
   },
   "outputs": [],
   "source": [
    "x_scaler = MinMaxScaler()\n",
    "y_scaler = MinMaxScaler()\n",
    "\n",
    "columns_list = list(x_train.columns)\n",
    "x_train = x_scaler.fit_transform(x_train)\n",
    "x_test = x_scaler.transform(x_test)\n",
    "y_train = y_scaler.fit_transform(y_train)\n",
    "y_test = y_scaler.transform(y_test)\n",
    "\n",
    "y_train = y_train.squeeze()\n",
    "y_test = y_test.squeeze()\n",
    "\n",
    "print('x_train examples')\n",
    "pd.DataFrame(x_train, columns = columns_list).head()"
   ]
  },
  {
   "cell_type": "markdown",
   "metadata": {
    "id": "8O0btlFNeAoj"
   },
   "source": [
    "#### 2.2 Data Windowing"
   ]
  },
  {
   "cell_type": "code",
   "execution_count": null,
   "metadata": {},
   "outputs": [],
   "source": [
    "Image('/content/LG_ES_RNN/image/image10.JPG')"
   ]
  },
  {
   "cell_type": "code",
   "execution_count": null,
   "metadata": {},
   "outputs": [],
   "source": [
    "Image('/content/LG_ES_RNN/image/image11.JPG')"
   ]
  },
  {
   "cell_type": "markdown",
   "metadata": {},
   "source": [
    "-  Q. 미래시점을 예측하고 싶을 때, delay_day 변수를 활용하여 함수 수정해보기"
   ]
  },
  {
   "cell_type": "code",
   "execution_count": null,
   "metadata": {
    "id": "oh3F76a4eAok"
   },
   "outputs": [],
   "source": [
    "def windowing_process(x, y, window_size, shift_size, delay_day):\n",
    "    try:\n",
    "        x = x.reset_index(drop=True)\n",
    "        y = y.reset_index(drop=True)\n",
    "    except:\n",
    "        pass\n",
    "    \n",
    "    x_window = []\n",
    "    y_window = []\n",
    "    \n",
    "    for start_idx in range(0, x.shape[0] - window_size - delay_day + 1, shift_size):\n",
    "        x_window.append(x[start_idx:start_idx + window_size])\n",
    "        y_window.append(y[start_idx + window_size + delay_day - 1])\n",
    "        \n",
    "    x_window = np.array(x_window)\n",
    "    y_window = np.array(y_window)\n",
    "    \n",
    "    return x_window, y_window"
   ]
  },
  {
   "cell_type": "markdown",
   "metadata": {},
   "source": [
    "-  Q. window size = 5, shift size = 1, delay day로 전처리 해보기"
   ]
  },
  {
   "cell_type": "code",
   "execution_count": null,
   "metadata": {
    "id": "qB1xlb61eAok",
    "outputId": "c52ef1cf-dcf7-41c5-9818-d2240a3143dd"
   },
   "outputs": [],
   "source": [
    "x_train, y_train = windowing_process(x_train, y_train, 5, 1, 1)\n",
    "x_test, y_test = windowing_process(x_test, y_test, 5, 1, 1)\n",
    "\n",
    "print(f'x_train shape is {x_train.shape}')\n",
    "print(f'y_train shape is {y_train.shape}')\n",
    "print('-'*35)\n",
    "print(f'x_test shape is {x_test.shape}')\n",
    "print(f'y_test shape is {y_test.shape}')"
   ]
  },
  {
   "cell_type": "code",
   "execution_count": null,
   "metadata": {
    "id": "O-Rmml1GeAol",
    "outputId": "466f72ca-1707-4324-a5c0-b87c9e228fa4"
   },
   "outputs": [],
   "source": [
    "n_train = int(0.8 * len(x_train))\n",
    "x_valid, y_valid = x_train[n_train:], y_train[n_train:]\n",
    "x_train, y_train = x_train[:n_train], y_train[:n_train]\n",
    "\n",
    "print(f'x_train shape is {x_train.shape}')\n",
    "print(f'y_train shape is {y_train.shape}')\n",
    "print('-'*35)\n",
    "print(f'x_train shape is {x_valid.shape}')\n",
    "print(f'y_train shape is {y_valid.shape}')\n",
    "print('-'*35)\n",
    "print(f'x_test shape is {x_test.shape}')\n",
    "print(f'y_test shape is {y_test.shape}')"
   ]
  },
  {
   "cell_type": "markdown",
   "metadata": {},
   "source": [
    "## 강의 여기까지~ "
   ]
  },
  {
   "cell_type": "markdown",
   "metadata": {
    "id": "zxG4ygKAnq_e"
   },
   "source": [
    "### 3. RNN Modeling"
   ]
  },
  {
   "cell_type": "markdown",
   "metadata": {
    "id": "0eCJhOameAol"
   },
   "source": [
    "#### 3.1 Define the Model Structure"
   ]
  },
  {
   "cell_type": "markdown",
   "metadata": {},
   "source": [
    "-  Q. RNN 함수 forward 부분 완성해보기"
   ]
  },
  {
   "cell_type": "code",
   "execution_count": null,
   "metadata": {
    "id": "jmJd0HwPnq_f"
   },
   "outputs": [],
   "source": [
    "class RNN_model(nn.Module):\n",
    "    def __init__(self, input_size, hidden_size, num_layers, bidirectional, rnn_type, device='cuda'):\n",
    "        super(RNN_model, self).__init__()\n",
    "        self.hidden_size = hidden_size\n",
    "        self.num_layers = num_layers\n",
    "        self.rnn_type = rnn_type\n",
    "        self.num_directions = 2 if bidirectional == True else 1\n",
    "        self.device = device\n",
    "        \n",
    "        # rnn_type에 따른 recurrent layer 설정\n",
    "        if self.rnn_type == 'rnn':\n",
    "            self.rnn = nn.RNN(input_size, hidden_size, num_layers, batch_first=True, bidirectional=bidirectional)\n",
    "        elif self.rnn_type == 'lstm':\n",
    "            self.rnn = nn.LSTM(input_size, hidden_size, num_layers, batch_first=True, bidirectional=bidirectional)\n",
    "        elif self.rnn_type == 'gru':\n",
    "            self.rnn = nn.GRU(input_size, hidden_size, num_layers, batch_first=True, bidirectional=bidirectional)\n",
    "        \n",
    "        # bidirectional에 따른 fc layer 구축\n",
    "        # bidirectional 여부에 따라 hidden state의 shape가 달라짐 (True: 2 * hidden_size, False: hidden_size)\n",
    "        self.fc = nn.Linear(self.num_directions * hidden_size, 1)\n",
    "\n",
    "    def forward(self, x):\n",
    "        '''Answer'''\n",
    "        return out"
   ]
  },
  {
   "cell_type": "markdown",
   "metadata": {
    "id": "n8-D8xCNeAom"
   },
   "source": [
    "#### 3.2 Define The Training Testing Strategy"
   ]
  },
  {
   "cell_type": "markdown",
   "metadata": {},
   "source": [
    "-  Q. RNN 함수 self 인스턴스 정의"
   ]
  },
  {
   "cell_type": "code",
   "execution_count": null,
   "metadata": {
    "id": "LkBIO8V8eAom"
   },
   "outputs": [],
   "source": [
    "class Train_Test():\n",
    "    def __init__(self,  train_loader, valid_loader, test_loader, input_size, device='cuda'): ##### config는 jupyter 파일을 참고\n",
    "        '''Answer'''\n",
    "\n",
    "    def train(self, model, dataloaders, criterion, num_epochs, optimizer):\n",
    "        since = time.time() \n",
    "        \n",
    "        train_loss_history = []\n",
    "        val_loss_history = []\n",
    "\n",
    "        best_model_wts = copy.deepcopy(model.state_dict()) # 모델의 초기 Weight값 (각 Layer 별 초기 Weight값이 저장되어 있음)\n",
    "        best_loss = 999999999\n",
    "\n",
    "        for epoch in range(num_epochs):\n",
    "            if epoch == 0 or (epoch + 1) % 10 == 0:\n",
    "                print()\n",
    "                print('Epoch {}/{}'.format(epoch + 1, num_epochs))\n",
    "\n",
    "            # 각 epoch마다 순서대로 training과 validation을 진행\n",
    "            for phase in ['train', 'val']:\n",
    "                if phase == 'train':\n",
    "                    model.train()  # 모델을 training mode로 설정\n",
    "                else:\n",
    "                    model.eval()   # 모델을 validation mode로 설정\n",
    "\n",
    "                running_loss = 0.0\n",
    "                running_total = 0\n",
    "\n",
    "                # training과 validation 단계에 맞는 dataloader에 대하여 학습/검증 진행\n",
    "                for inputs, targets in dataloaders[phase]:\n",
    "                    inputs = inputs.to(device)\n",
    "                    targets = targets.to(device)\n",
    "                    # seq_lens = seq_lens.to(self.parameter['device'])\n",
    "                    \n",
    "                    # parameter gradients를 0으로 설정\n",
    "                    optimizer.zero_grad()\n",
    "\n",
    "                    # forward\n",
    "                    # training 단계에서만 gradient 업데이트 수행\n",
    "                    with torch.set_grad_enabled(phase == 'train'):\n",
    "\n",
    "                        # input을 model에 넣어 output을 도출한 후, loss를 계산함\n",
    "                        outputs = model(inputs)\n",
    "                        outputs = outputs.reshape(-1)\n",
    "                        \n",
    "                        loss = criterion(outputs, targets)\n",
    "\n",
    "                        # backward (optimize): training 단계에서만 수행\n",
    "                        if phase == 'train':\n",
    "                            loss.backward()\n",
    "                            optimizer.step()\n",
    "\n",
    "                    # batch별 loss를 축적함\n",
    "                    running_loss += loss.item() * inputs.size(0)\n",
    "                    running_total += targets.size(0)\n",
    "\n",
    "                # epoch의 loss 및 accuracy 도출\n",
    "                epoch_loss = running_loss / running_total\n",
    "                                    \n",
    "                if epoch == 0 or (epoch + 1) % 10 == 0:\n",
    "                    print('{} Loss: {:.4f}'.format(phase, epoch_loss))\n",
    "\n",
    "                # validation 단계에서 validation loss가 감소할 때마다 best model 가중치를 업데이트함\n",
    "                if phase == 'val' and epoch_loss < best_loss:\n",
    "                    best_loss = epoch_loss\n",
    "                    best_model_wts = copy.deepcopy(model.state_dict())\n",
    "                if phase == 'train':\n",
    "                    train_loss_history.append(epoch_loss)\n",
    "                elif phase == 'val':\n",
    "                    val_loss_history.append(epoch_loss)\n",
    "\n",
    "        # 전체 학습 시간 계산 (학습이 완료된 후)\n",
    "        time_elapsed = time.time() - since\n",
    "        print('\\nTraining complete in {:.0f}m {:.0f}s'.format(time_elapsed // 60, time_elapsed % 60))\n",
    "        print('Best val MSE: {:4f}'.format(best_loss))\n",
    "\n",
    "        # validation loss가 가장 낮았을 때의 best model 가중치를 불러와 best model을 구축함\n",
    "        model.load_state_dict(best_model_wts)\n",
    "        return model, train_loss_history, val_loss_history\n",
    "\n",
    "    def test(self, model, test_loader):\n",
    "        model.eval()   # 모델을 validation mode로 설정\n",
    "        \n",
    "        # test_loader에 대하여 검증 진행 (gradient update 방지)\n",
    "        with torch.no_grad():\n",
    "\n",
    "            preds = []\n",
    "            y_true = []\n",
    "            for inputs, targets in test_loader:\n",
    "                inputs = inputs.to(device)\n",
    "                targets = targets.to(device)\n",
    "\n",
    "                # forward\n",
    "                # input을 model에 넣어 output을 도출\n",
    "                pred = model(inputs)\n",
    "                \n",
    "                preds.extend(pred.detach().cpu().numpy())\n",
    "                y_true.extend(targets.detach().cpu().numpy())\n",
    "\n",
    "            preds = torch.tensor(preds).reshape(-1)\n",
    "            y_true = torch.tensor(y_true)\n",
    "            \n",
    "            mse = nn.MSELoss()(preds, y_true).item()\n",
    "            preds = preds.detach().cpu().numpy()\n",
    "        return preds, mse"
   ]
  },
  {
   "cell_type": "markdown",
   "metadata": {
    "id": "3eupLob5eAom"
   },
   "source": [
    "### 4. Model Training"
   ]
  },
  {
   "cell_type": "markdown",
   "metadata": {
    "id": "hmvGS1gQeAon"
   },
   "source": [
    "#### 4.1 Hyperparameter Setting"
   ]
  },
  {
   "cell_type": "markdown",
   "metadata": {},
   "source": [
    "- batch_size: 학습 및 검증에 사용할 배치의 크기\n",
    "- input_size: 변수 개수\n",
    "- hidden_size: 모델의 hidden dimension\n",
    "- num_layers: 모델의 layer 개수\n",
    "- bidirectional: 모델의 양방향성 여부\n",
    "- num_epochs: 학습할 epoch 횟수\n",
    "- device: 사용할 자원 선정\n",
    "- best_model_path: 모델 파라미터 저장 위치"
   ]
  },
  {
   "cell_type": "markdown",
   "metadata": {},
   "source": [
    "-  Q. batch size = 128, bidirectional은 적용되도록 hyperparameter 구성"
   ]
  },
  {
   "cell_type": "code",
   "execution_count": null,
   "metadata": {
    "id": "1Rj6AI4heAop"
   },
   "outputs": [],
   "source": [
    "batch_size = '''Answer'''\n",
    "input_size = x_train.shape[2]\n",
    "hidden_size = 64\n",
    "num_layers = 2\n",
    "bidirectional = '''Answer'''\n",
    "num_epochs = 200\n",
    "device = torch.device(\"cuda:0\" if torch.cuda.is_available() else 'cpu') \n",
    "rnn_type='rnn'\n",
    "best_model_path = f'/content/LG_ES_RNN/ckpt/{rnn_type}_stock_quiz.pt'"
   ]
  },
  {
   "cell_type": "markdown",
   "metadata": {
    "id": "qh5NstGUeAop"
   },
   "source": [
    "#### 4.2 Construct Data Loaders and Model"
   ]
  },
  {
   "cell_type": "code",
   "execution_count": null,
   "metadata": {
    "id": "xfB44UkWeAop"
   },
   "outputs": [],
   "source": [
    "datasets = []\n",
    "for dataset in [(x_train, y_train), (x_valid, y_valid), (x_test, y_test)]:\n",
    "    x_data = dataset[0]\n",
    "    y_data = dataset[1]\n",
    "    datasets.append(torch.utils.data.TensorDataset(torch.Tensor(x_data), torch.Tensor(y_data)))\n",
    "\n",
    "trainset, validset, testset = datasets[0], datasets[1], datasets[2]\n",
    "train_loader = torch.utils.data.DataLoader(trainset, batch_size=batch_size, shuffle=True)\n",
    "valid_loader = torch.utils.data.DataLoader(validset, batch_size=batch_size, shuffle=True)\n",
    "test_loader = torch.utils.data.DataLoader(testset, batch_size=batch_size, shuffle=False)"
   ]
  },
  {
   "cell_type": "markdown",
   "metadata": {},
   "source": [
    "-  Q. 모델 정의하기"
   ]
  },
  {
   "cell_type": "code",
   "execution_count": null,
   "metadata": {
    "id": "dIJFtNyteAop"
   },
   "outputs": [],
   "source": [
    "model =  '''Answer'''(input_size, hidden_size, num_layers, bidirectional, rnn_type, device)\n",
    "model = model.to(device)"
   ]
  },
  {
   "cell_type": "markdown",
   "metadata": {
    "id": "QEJ-dtdEeAoq"
   },
   "source": [
    "#### 4.3 Model Training and Save Weights(Parameters)"
   ]
  },
  {
   "cell_type": "code",
   "execution_count": null,
   "metadata": {
    "id": "S-3G3MIIeAoq"
   },
   "outputs": [],
   "source": [
    "dataloaders_dict = {'train': train_loader, 'val': valid_loader}"
   ]
  },
  {
   "cell_type": "code",
   "execution_count": null,
   "metadata": {
    "id": "fOibnWUEeAoq"
   },
   "outputs": [],
   "source": [
    "criterion = nn.MSELoss()\n",
    "optimizer = optim.Adam(model.parameters(), lr=0.0001)"
   ]
  },
  {
   "cell_type": "code",
   "execution_count": null,
   "metadata": {
    "id": "7vAel_VBeAoq",
    "outputId": "d2d204f5-65cc-4997-dd96-8dea3229520f"
   },
   "outputs": [],
   "source": [
    "trainer = Train_Test(train_loader, valid_loader, test_loader, input_size, device)\n",
    "best_model, train_loss_history, val_loss_history = trainer.train(model, dataloaders_dict, criterion, num_epochs, optimizer)"
   ]
  },
  {
   "cell_type": "code",
   "execution_count": null,
   "metadata": {
    "id": "uSj6_g2heAoq"
   },
   "outputs": [],
   "source": [
    "torch.save(best_model.state_dict(), best_model_path)"
   ]
  },
  {
   "cell_type": "markdown",
   "metadata": {
    "id": "uVaphswheAoq"
   },
   "source": [
    "### 5. Model Validation"
   ]
  },
  {
   "cell_type": "markdown",
   "metadata": {
    "id": "5nQ5SxnpeAoq"
   },
   "source": [
    "#### 5.1 Loss History Visualization"
   ]
  },
  {
   "cell_type": "code",
   "execution_count": null,
   "metadata": {
    "id": "XQvuNG9ceAoq",
    "outputId": "d1fa4c78-a861-4d8a-f6f7-22080531f3f8"
   },
   "outputs": [],
   "source": [
    "plt.figure(figsize=(8,5))\n",
    "plt.title('Loss History')\n",
    "plt.plot(range(num_epochs), train_loss_history, c='blue', label='Train Loss')\n",
    "plt.plot(range(num_epochs), val_loss_history, c='red', label='Validation Loss')\n",
    "plt.legend()\n",
    "plt.xlabel('epoch')\n",
    "plt.ylabel('loss')"
   ]
  },
  {
   "cell_type": "markdown",
   "metadata": {
    "id": "5GM5AC9ZeAor"
   },
   "source": [
    "#### 5.2 Load Model Weights(Parameters)"
   ]
  },
  {
   "cell_type": "code",
   "execution_count": null,
   "metadata": {
    "id": "3orZroTJeAor",
    "outputId": "748afa33-aa9b-4c39-c886-abeb6723ec49"
   },
   "outputs": [],
   "source": [
    "model.load_state_dict(torch.load(best_model_path))"
   ]
  },
  {
   "cell_type": "markdown",
   "metadata": {},
   "source": [
    "-  Q. scaler를 통해 올바르게 원데이터의 scale대로 inverse하기 "
   ]
  },
  {
   "cell_type": "code",
   "execution_count": null,
   "metadata": {
    "id": "fTL_Jba-eAor",
    "outputId": "972b9290-c525-48d2-a261-e3d549f5c4ef"
   },
   "outputs": [],
   "source": [
    "y_pred, mse = trainer.test(model, test_loader)\n",
    "y_pred_inverse = '''Answer'''(pd.DataFrame(y_pred))\n",
    "y_test_inverse = '''Answer'''(pd.DataFrame(y_test))\n",
    "y_train_inverse = '''Answer'''(pd.DataFrame(y_train))\n",
    "y_valid_inverse = '''Answer'''(pd.DataFrame(y_valid))\n",
    "\n",
    "print('y prediction (raw)')\n",
    "print(y_pred)\n",
    "print('-'*35)\n",
    "print('y prediction (inverse minmax scaler)')\n",
    "print(y_pred_inverse)"
   ]
  },
  {
   "cell_type": "markdown",
   "metadata": {},
   "source": [
    "#####  R squared (결정계수 $({r})^{2}$) <br>\n",
    "$\\frac{SSR}{SST} = 1- \\frac{SSR}{SST}%$\n",
    "\n",
    "##### Mean Absolute Error (평균 절대 오차) <br>\n",
    "$\\frac{1}{n} \\sum_{i=1}^{n} |y_{i} - \\hat{y}_{i}|$\n",
    "\n",
    "###### Mean Squared Error (평균 제곱 오차) <br>\n",
    "$\\frac{1}{n} \\sum_{i=1}^{n} (y_{i} - \\hat{y}_{i})^{2}$   \n",
    "\n",
    "######  Root Mean Squared Error (제곱근 평균 제곱 오차) <br>\n",
    "$\\sqrt{\\frac{1}{n} \\sum_{i=1}^{n} (y_{i} - \\hat{y}_{i})^{2}}$\n",
    "\n",
    "##### Mean Absolute Percentage Error (평균 절대비 오차) <br>\n",
    "$\\sum_{i=1}^{n} |\\frac{y_{i} - \\hat{y}_{i}}{\\hat{y}_{i}}| *100\\%$"
   ]
  },
  {
   "cell_type": "markdown",
   "metadata": {},
   "source": [
    "-  Q. 모델 평가함수 작성해보기"
   ]
  },
  {
   "cell_type": "code",
   "execution_count": null,
   "metadata": {
    "id": "2EAjn8wAeAor",
    "outputId": "6087e1c4-23c1-4f1b-c7fe-6d9fb3f746b1"
   },
   "outputs": [],
   "source": [
    "def regression_report(y_true, y_pred):\n",
    "    r2 = r2_score(y_true, y_pred)\n",
    "    mae = '''Answer'''\n",
    "    mse = '''Answer'''\n",
    "    rmse = np.sqrt(mse)\n",
    "    mape = '''Answer'''\n",
    "      \n",
    "    print('The regression reports are as follows:')\n",
    "    print('r2: ', round(r2,4))\n",
    "    print('MAE: ', round(mae,4))\n",
    "    print('MSE: ', round(mse,4))\n",
    "    print('RMSE: ', round(rmse,4))\n",
    "    print('MAPE: ', round(mape,4))\n",
    "    return r2, mae, mse, rmse, mape\n",
    "\n",
    "r2, mae, mse, rmse, mape = regression_report (y_test_inverse.flatten(), y_pred_inverse.flatten())"
   ]
  },
  {
   "cell_type": "code",
   "execution_count": null,
   "metadata": {
    "id": "oCLgQD7VeAor"
   },
   "outputs": [],
   "source": [
    "y_train_concat = np.concatenate([y_train_inverse, y_valid_inverse], axis=0)\n",
    "y_train = np.concatenate([y_train_concat, np.array([np.nan]*len(y_test_inverse)).reshape(len(y_test_inverse), -1)], axis=0)\n",
    "y_test = np.concatenate([np.array([np.nan]*len(y_train_concat)).reshape(len(y_train_concat), -1), y_test_inverse], axis=0)\n",
    "y_pred = np.concatenate([np.array([np.nan]*len(y_train_concat)).reshape(len(y_train_concat), -1), y_pred_inverse], axis=0)\n",
    "\n",
    "y_train = pd.DataFrame(y_train, columns = ['Train set'])\n",
    "y_test = pd.DataFrame(y_test, columns = ['Test set'])\n",
    "y_pred = pd.DataFrame(y_pred, columns = ['Predictions'])"
   ]
  },
  {
   "cell_type": "code",
   "execution_count": null,
   "metadata": {
    "id": "ACfUo02ueAos",
    "outputId": "9dd52909-8fbb-4431-9cdc-c16f216a17a9"
   },
   "outputs": [],
   "source": [
    "plt.figure(figsize=(16,6))\n",
    "plt.title(f'RNN regression results with r2 score {np.round(r2, 2)}', fontsize=12)\n",
    "plt.xlabel('Date', fontsize=12)\n",
    "plt.ylabel('Stock Close Values', fontsize=12)\n",
    "plt.axvline(x=len(y_train_concat), color='r', label='Start Prediction', ls='--')\n",
    "plt.plot(y_train['Train set'])\n",
    "plt.plot(y_test['Test set'])\n",
    "plt.plot(y_pred['Predictions'])\n",
    "plt.legend(['Start Prediction', 'Train set', 'Test set', 'Predictions'], loc='lower right')\n",
    "plt.show()"
   ]
  },
  {
   "cell_type": "markdown",
   "metadata": {
    "id": "gqBHwh5-nq_q"
   },
   "source": [
    "# EOD"
   ]
  }
 ],
 "metadata": {
  "colab": {
   "collapsed_sections": [],
   "name": "3_RNN_regression-solutions.ipynb",
   "provenance": [
    {
     "file_id": "https://github.com/Jiyoon52/LG_ES_RNN/blob/main/3_RNN_regression-solutions.ipynb",
     "timestamp": 1656959277592
    },
    {
     "file_id": "https://github.com/Jiyoon52/LG_time_series_day02_dataset/blob/main/%ED%86%B5%EA%B3%84%EA%B8%B0%EB%B0%98%EC%8B%9C%EA%B3%84%EC%97%B4%EB%B6%84%EC%84%9D%202%ED%9A%8C%EC%B0%A8%20-%201.ipynb",
     "timestamp": 1642046886935
    }
   ]
  },
  "kernelspec": {
   "display_name": "Python 3 (ipykernel)",
   "language": "python",
   "name": "python3"
  },
  "language_info": {
   "codemirror_mode": {
    "name": "ipython",
    "version": 3
   },
   "file_extension": ".py",
   "mimetype": "text/x-python",
   "name": "python",
   "nbconvert_exporter": "python",
   "pygments_lexer": "ipython3",
   "version": "3.7.11"
  },
  "toc": {
   "base_numbering": "1",
   "nav_menu": {},
   "number_sections": false,
   "sideBar": true,
   "skip_h1_title": false,
   "title_cell": "Table of Contents",
   "title_sidebar": "Contents",
   "toc_cell": false,
   "toc_position": {
    "height": "calc(100% - 180px)",
    "left": "10px",
    "top": "150px",
    "width": "357.448px"
   },
   "toc_section_display": true,
   "toc_window_display": true
  }
 },
 "nbformat": 4,
 "nbformat_minor": 1
}
