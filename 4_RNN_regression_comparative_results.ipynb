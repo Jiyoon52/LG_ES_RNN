{
 "cells": [
  {
   "cell_type": "code",
   "execution_count": 1,
   "metadata": {},
   "outputs": [
    {
     "name": "stdout",
     "output_type": "stream",
     "text": [
      "Requirement already satisfied: IPython in c:\\users\\jiyoon\\anaconda3\\envs\\torchgpu\\lib\\site-packages (7.31.1)\n",
      "Requirement already satisfied: pickleshare in c:\\users\\jiyoon\\anaconda3\\envs\\torchgpu\\lib\\site-packages (from IPython) (0.7.5)\n",
      "Requirement already satisfied: traitlets>=4.2 in c:\\users\\jiyoon\\anaconda3\\envs\\torchgpu\\lib\\site-packages (from IPython) (5.1.1)\n",
      "Requirement already satisfied: pygments in c:\\users\\jiyoon\\anaconda3\\envs\\torchgpu\\lib\\site-packages (from IPython) (2.10.0)\n",
      "Requirement already satisfied: decorator in c:\\users\\jiyoon\\anaconda3\\envs\\torchgpu\\lib\\site-packages (from IPython) (5.1.1)\n",
      "Requirement already satisfied: jedi>=0.16 in c:\\users\\jiyoon\\anaconda3\\envs\\torchgpu\\lib\\site-packages (from IPython) (0.18.1)\n",
      "Requirement already satisfied: matplotlib-inline in c:\\users\\jiyoon\\anaconda3\\envs\\torchgpu\\lib\\site-packages (from IPython) (0.1.3)\n",
      "Requirement already satisfied: colorama in c:\\users\\jiyoon\\anaconda3\\envs\\torchgpu\\lib\\site-packages (from IPython) (0.4.4)\n",
      "Requirement already satisfied: prompt-toolkit!=3.0.0,!=3.0.1,<3.1.0,>=2.0.0 in c:\\users\\jiyoon\\anaconda3\\envs\\torchgpu\\lib\\site-packages (from IPython) (3.0.20)\n",
      "Requirement already satisfied: setuptools>=18.5 in c:\\users\\jiyoon\\anaconda3\\envs\\torchgpu\\lib\\site-packages (from IPython) (59.5.0)\n"
     ]
    },
    {
     "name": "stderr",
     "output_type": "stream",
     "text": [
      "WARNING: Ignoring invalid distribution -orch (c:\\users\\jiyoon\\anaconda3\\envs\\torchgpu\\lib\\site-packages)\n",
      "WARNING: Ignoring invalid distribution - (c:\\users\\jiyoon\\anaconda3\\envs\\torchgpu\\lib\\site-packages)\n",
      "WARNING: Ignoring invalid distribution -orch (c:\\users\\jiyoon\\anaconda3\\envs\\torchgpu\\lib\\site-packages)\n",
      "WARNING: Ignoring invalid distribution - (c:\\users\\jiyoon\\anaconda3\\envs\\torchgpu\\lib\\site-packages)\n",
      "WARNING: Ignoring invalid distribution -orch (c:\\users\\jiyoon\\anaconda3\\envs\\torchgpu\\lib\\site-packages)\n",
      "WARNING: Ignoring invalid distribution - (c:\\users\\jiyoon\\anaconda3\\envs\\torchgpu\\lib\\site-packages)\n",
      "WARNING: Ignoring invalid distribution -orch (c:\\users\\jiyoon\\anaconda3\\envs\\torchgpu\\lib\\site-packages)\n",
      "WARNING: Ignoring invalid distribution - (c:\\users\\jiyoon\\anaconda3\\envs\\torchgpu\\lib\\site-packages)\n",
      "WARNING: Ignoring invalid distribution -orch (c:\\users\\jiyoon\\anaconda3\\envs\\torchgpu\\lib\\site-packages)\n",
      "WARNING: Ignoring invalid distribution - (c:\\users\\jiyoon\\anaconda3\\envs\\torchgpu\\lib\\site-packages)\n",
      "WARNING: Ignoring invalid distribution -orch (c:\\users\\jiyoon\\anaconda3\\envs\\torchgpu\\lib\\site-packages)\n",
      "WARNING: Ignoring invalid distribution - (c:\\users\\jiyoon\\anaconda3\\envs\\torchgpu\\lib\\site-packages)\n"
     ]
    },
    {
     "name": "stdout",
     "output_type": "stream",
     "text": [
      "Requirement already satisfied: backcall in c:\\users\\jiyoon\\anaconda3\\envs\\torchgpu\\lib\\site-packages (from IPython) (0.2.0)\n",
      "Requirement already satisfied: parso<0.9.0,>=0.8.0 in c:\\users\\jiyoon\\anaconda3\\envs\\torchgpu\\lib\\site-packages (from jedi>=0.16->IPython) (0.8.3)\n",
      "Requirement already satisfied: wcwidth in c:\\users\\jiyoon\\anaconda3\\envs\\torchgpu\\lib\\site-packages (from prompt-toolkit!=3.0.0,!=3.0.1,<3.1.0,>=2.0.0->IPython) (0.2.5)\n"
     ]
    }
   ],
   "source": [
    "!pip install IPython\n",
    "from IPython.display import Image"
   ]
  },
  {
   "cell_type": "code",
   "execution_count": null,
   "metadata": {
    "id": "jAM51Z7znq_V"
   },
   "outputs": [],
   "source": [
    "# !git clone https://github.com/Jiyoon52/LG_time_series_day02_dataset.git # colab 사용시"
   ]
  },
  {
   "cell_type": "code",
   "execution_count": null,
   "metadata": {
    "id": "dYCNeMYEnq_Q"
   },
   "outputs": [],
   "source": [
    "# Image('image/image_1.JPG') # 로컬 사용시\n",
    "Image('/content/LG_time_series_day02_dataset/image/image_1.JPG') # colab 사용시"
   ]
  },
  {
   "cell_type": "markdown",
   "metadata": {
    "id": "9uXbP9sNnq_S"
   },
   "source": [
    "# [Recurrent Neural Networks - 회귀] "
   ]
  },
  {
   "cell_type": "markdown",
   "metadata": {
    "id": "QL7l9L4Jnq_T"
   },
   "source": [
    "##### jupyter notebook 단축키\n",
    "\n",
    "- ctrl+enter: 셀 실행   \n",
    "- shift+enter: 셀 실행 및 다음 셀 이동   \n",
    "- alt+enter: 셀 실행, 다음 셀 이동, 새로운 셀 생성\n",
    "- a: 상단에 새로운 셀 만들기\n",
    "- b: 하단에 새로운 셀 만들기\n",
    "- dd: 셀 삭제(x: 셀 삭제)"
   ]
  },
  {
   "cell_type": "markdown",
   "metadata": {
    "id": "Fr9IowEpnq_U"
   },
   "source": [
    "### 1. 모듈 불러오기"
   ]
  },
  {
   "cell_type": "code",
   "execution_count": 178,
   "metadata": {
    "id": "9ueLs11Jnq_W"
   },
   "outputs": [],
   "source": [
    "import pandas as pd\n",
    "import numpy as np\n",
    "from sklearn.model_selection import train_test_split\n",
    "\n",
    "import torch\n",
    "import torch.nn as nn\n",
    "import torch.optim as optim\n",
    "import torch.nn.functional as F\n",
    "\n",
    "import time\n",
    "import copy\n",
    "\n",
    "import random\n",
    "\n",
    "import matplotlib.pyplot as plt     \n",
    "\n",
    "from sklearn.metrics import mean_squared_error, mean_absolute_error, r2_score\n",
    "def mean_absolute_percentage_error(y_true, y_pred):\n",
    "    mape = np.mean(np.abs((y_true - y_pred)/y_true))*100\n",
    "    return mape\n",
    "\n",
    "\n",
    "from sklearn.preprocessing import MinMaxScaler\n",
    "\n",
    "import warnings\n",
    "warnings.filterwarnings(action='ignore') "
   ]
  },
  {
   "cell_type": "markdown",
   "metadata": {
    "id": "KL9O-z5Pnq_Y"
   },
   "source": [
    "### 2. 데이터 불러오기"
   ]
  },
  {
   "cell_type": "code",
   "execution_count": 179,
   "metadata": {},
   "outputs": [],
   "source": [
    "random_seed = 2022\n",
    "torch.manual_seed(random_seed)\n",
    "torch.cuda.manual_seed(random_seed)\n",
    "torch.cuda.manual_seed_all(random_seed) # if use multi-GPU\n",
    "torch.backends.cudnn.deterministic = True\n",
    "torch.backends.cudnn.benchmark = False\n",
    "np.random.seed(random_seed)\n",
    "random.seed(random_seed)"
   ]
  },
  {
   "cell_type": "code",
   "execution_count": 180,
   "metadata": {
    "id": "y4t-KvVLnq_Z"
   },
   "outputs": [],
   "source": [
    "# co2_data = pd.read_csv('data/co2.csv')\n",
    "# co2_data = pd.read_csv('/content/LG_time_series_day02_dataset/data/co2.csv')\n",
    "data = pd.read_csv('./data/reg_nasdaq100.csv')"
   ]
  },
  {
   "cell_type": "markdown",
   "metadata": {
    "id": "qEXesS9Dnq_Z"
   },
   "source": [
    "#### 2.1 Data Exploratory Data Analysis"
   ]
  },
  {
   "cell_type": "code",
   "execution_count": 181,
   "metadata": {},
   "outputs": [
    {
     "name": "stdout",
     "output_type": "stream",
     "text": [
      "x_train shape is (28392, 81)\n",
      "y_train shape is (28392, 1)\n",
      "-----------------------------------\n",
      "x_test shape is (12168, 81)\n",
      "y_test shape is (12168, 1)\n",
      "-----------------------------------\n",
      "x_train examples\n"
     ]
    },
    {
     "data": {
      "text/html": [
       "<div>\n",
       "<style scoped>\n",
       "    .dataframe tbody tr th:only-of-type {\n",
       "        vertical-align: middle;\n",
       "    }\n",
       "\n",
       "    .dataframe tbody tr th {\n",
       "        vertical-align: top;\n",
       "    }\n",
       "\n",
       "    .dataframe thead th {\n",
       "        text-align: right;\n",
       "    }\n",
       "</style>\n",
       "<table border=\"1\" class=\"dataframe\">\n",
       "  <thead>\n",
       "    <tr style=\"text-align: right;\">\n",
       "      <th></th>\n",
       "      <th>AAL</th>\n",
       "      <th>AAPL</th>\n",
       "      <th>ADBE</th>\n",
       "      <th>ADI</th>\n",
       "      <th>ADP</th>\n",
       "      <th>ADSK</th>\n",
       "      <th>AKAM</th>\n",
       "      <th>ALXN</th>\n",
       "      <th>AMAT</th>\n",
       "      <th>AMGN</th>\n",
       "      <th>...</th>\n",
       "      <th>TSLA</th>\n",
       "      <th>TXN</th>\n",
       "      <th>VIAB</th>\n",
       "      <th>VOD</th>\n",
       "      <th>VRTX</th>\n",
       "      <th>WBA</th>\n",
       "      <th>WDC</th>\n",
       "      <th>WFM</th>\n",
       "      <th>XLNX</th>\n",
       "      <th>YHOO</th>\n",
       "    </tr>\n",
       "  </thead>\n",
       "  <tbody>\n",
       "    <tr>\n",
       "      <th>0</th>\n",
       "      <td>35.9800</td>\n",
       "      <td>96.80</td>\n",
       "      <td>97.80</td>\n",
       "      <td>61.15</td>\n",
       "      <td>95.4000</td>\n",
       "      <td>58.180000</td>\n",
       "      <td>58.00</td>\n",
       "      <td>127.040</td>\n",
       "      <td>26.680</td>\n",
       "      <td>165.8100</td>\n",
       "      <td>...</td>\n",
       "      <td>227.6500</td>\n",
       "      <td>70.73</td>\n",
       "      <td>45.230</td>\n",
       "      <td>31.1701</td>\n",
       "      <td>95.270</td>\n",
       "      <td>81.365</td>\n",
       "      <td>52.16</td>\n",
       "      <td>33.95</td>\n",
       "      <td>48.61</td>\n",
       "      <td>38.010</td>\n",
       "    </tr>\n",
       "    <tr>\n",
       "      <th>1</th>\n",
       "      <td>35.9310</td>\n",
       "      <td>96.89</td>\n",
       "      <td>97.80</td>\n",
       "      <td>61.61</td>\n",
       "      <td>95.4115</td>\n",
       "      <td>58.190000</td>\n",
       "      <td>58.12</td>\n",
       "      <td>126.060</td>\n",
       "      <td>26.730</td>\n",
       "      <td>165.9101</td>\n",
       "      <td>...</td>\n",
       "      <td>227.0967</td>\n",
       "      <td>70.69</td>\n",
       "      <td>45.010</td>\n",
       "      <td>31.1900</td>\n",
       "      <td>94.170</td>\n",
       "      <td>81.540</td>\n",
       "      <td>52.15</td>\n",
       "      <td>34.10</td>\n",
       "      <td>48.74</td>\n",
       "      <td>38.140</td>\n",
       "    </tr>\n",
       "    <tr>\n",
       "      <th>2</th>\n",
       "      <td>35.9044</td>\n",
       "      <td>96.95</td>\n",
       "      <td>97.57</td>\n",
       "      <td>61.98</td>\n",
       "      <td>95.5100</td>\n",
       "      <td>58.203333</td>\n",
       "      <td>57.95</td>\n",
       "      <td>126.510</td>\n",
       "      <td>26.712</td>\n",
       "      <td>166.1800</td>\n",
       "      <td>...</td>\n",
       "      <td>226.6300</td>\n",
       "      <td>71.30</td>\n",
       "      <td>45.015</td>\n",
       "      <td>31.2100</td>\n",
       "      <td>94.749</td>\n",
       "      <td>81.530</td>\n",
       "      <td>52.27</td>\n",
       "      <td>34.01</td>\n",
       "      <td>48.99</td>\n",
       "      <td>38.150</td>\n",
       "    </tr>\n",
       "    <tr>\n",
       "      <th>3</th>\n",
       "      <td>35.8900</td>\n",
       "      <td>96.97</td>\n",
       "      <td>97.55</td>\n",
       "      <td>62.09</td>\n",
       "      <td>95.5200</td>\n",
       "      <td>58.216667</td>\n",
       "      <td>57.96</td>\n",
       "      <td>126.280</td>\n",
       "      <td>26.740</td>\n",
       "      <td>166.1480</td>\n",
       "      <td>...</td>\n",
       "      <td>227.5300</td>\n",
       "      <td>71.31</td>\n",
       "      <td>45.020</td>\n",
       "      <td>31.2100</td>\n",
       "      <td>94.310</td>\n",
       "      <td>81.710</td>\n",
       "      <td>52.30</td>\n",
       "      <td>33.96</td>\n",
       "      <td>48.95</td>\n",
       "      <td>38.195</td>\n",
       "    </tr>\n",
       "    <tr>\n",
       "      <th>4</th>\n",
       "      <td>36.0080</td>\n",
       "      <td>96.96</td>\n",
       "      <td>97.73</td>\n",
       "      <td>61.89</td>\n",
       "      <td>95.5300</td>\n",
       "      <td>58.230000</td>\n",
       "      <td>58.21</td>\n",
       "      <td>126.585</td>\n",
       "      <td>26.720</td>\n",
       "      <td>165.9900</td>\n",
       "      <td>...</td>\n",
       "      <td>227.1250</td>\n",
       "      <td>71.06</td>\n",
       "      <td>45.050</td>\n",
       "      <td>31.1800</td>\n",
       "      <td>94.155</td>\n",
       "      <td>81.720</td>\n",
       "      <td>52.30</td>\n",
       "      <td>34.17</td>\n",
       "      <td>48.89</td>\n",
       "      <td>38.320</td>\n",
       "    </tr>\n",
       "  </tbody>\n",
       "</table>\n",
       "<p>5 rows × 81 columns</p>\n",
       "</div>"
      ],
      "text/plain": [
       "       AAL   AAPL   ADBE    ADI      ADP       ADSK   AKAM     ALXN    AMAT  \\\n",
       "0  35.9800  96.80  97.80  61.15  95.4000  58.180000  58.00  127.040  26.680   \n",
       "1  35.9310  96.89  97.80  61.61  95.4115  58.190000  58.12  126.060  26.730   \n",
       "2  35.9044  96.95  97.57  61.98  95.5100  58.203333  57.95  126.510  26.712   \n",
       "3  35.8900  96.97  97.55  62.09  95.5200  58.216667  57.96  126.280  26.740   \n",
       "4  36.0080  96.96  97.73  61.89  95.5300  58.230000  58.21  126.585  26.720   \n",
       "\n",
       "       AMGN  ...      TSLA    TXN    VIAB      VOD    VRTX     WBA    WDC  \\\n",
       "0  165.8100  ...  227.6500  70.73  45.230  31.1701  95.270  81.365  52.16   \n",
       "1  165.9101  ...  227.0967  70.69  45.010  31.1900  94.170  81.540  52.15   \n",
       "2  166.1800  ...  226.6300  71.30  45.015  31.2100  94.749  81.530  52.27   \n",
       "3  166.1480  ...  227.5300  71.31  45.020  31.2100  94.310  81.710  52.30   \n",
       "4  165.9900  ...  227.1250  71.06  45.050  31.1800  94.155  81.720  52.30   \n",
       "\n",
       "     WFM   XLNX    YHOO  \n",
       "0  33.95  48.61  38.010  \n",
       "1  34.10  48.74  38.140  \n",
       "2  34.01  48.99  38.150  \n",
       "3  33.96  48.95  38.195  \n",
       "4  34.17  48.89  38.320  \n",
       "\n",
       "[5 rows x 81 columns]"
      ]
     },
     "execution_count": 181,
     "metadata": {},
     "output_type": "execute_result"
    }
   ],
   "source": [
    "x = data.drop(['NDX'], axis=1)\n",
    "y = data[['NDX']]\n",
    "x_train, x_test, y_train, y_test = train_test_split(x, y, test_size=0.3, shuffle=False)\n",
    "\n",
    "print(f'x_train shape is {x_train.shape}')\n",
    "print(f'y_train shape is {y_train.shape}')\n",
    "print('-'*35)\n",
    "print(f'x_test shape is {x_test.shape}')\n",
    "print(f'y_test shape is {y_test.shape}')\n",
    "print('-'*35)\n",
    "print('x_train examples')\n",
    "x_train.head()"
   ]
  },
  {
   "cell_type": "code",
   "execution_count": 182,
   "metadata": {},
   "outputs": [
    {
     "name": "stdout",
     "output_type": "stream",
     "text": [
      "x_train examples\n"
     ]
    },
    {
     "data": {
      "text/html": [
       "<div>\n",
       "<style scoped>\n",
       "    .dataframe tbody tr th:only-of-type {\n",
       "        vertical-align: middle;\n",
       "    }\n",
       "\n",
       "    .dataframe tbody tr th {\n",
       "        vertical-align: top;\n",
       "    }\n",
       "\n",
       "    .dataframe thead th {\n",
       "        text-align: right;\n",
       "    }\n",
       "</style>\n",
       "<table border=\"1\" class=\"dataframe\">\n",
       "  <thead>\n",
       "    <tr style=\"text-align: right;\">\n",
       "      <th></th>\n",
       "      <th>AAL</th>\n",
       "      <th>AAPL</th>\n",
       "      <th>ADBE</th>\n",
       "      <th>ADI</th>\n",
       "      <th>ADP</th>\n",
       "      <th>ADSK</th>\n",
       "      <th>AKAM</th>\n",
       "      <th>ALXN</th>\n",
       "      <th>AMAT</th>\n",
       "      <th>AMGN</th>\n",
       "      <th>...</th>\n",
       "      <th>TSLA</th>\n",
       "      <th>TXN</th>\n",
       "      <th>VIAB</th>\n",
       "      <th>VOD</th>\n",
       "      <th>VRTX</th>\n",
       "      <th>WBA</th>\n",
       "      <th>WDC</th>\n",
       "      <th>WFM</th>\n",
       "      <th>XLNX</th>\n",
       "      <th>YHOO</th>\n",
       "    </tr>\n",
       "  </thead>\n",
       "  <tbody>\n",
       "    <tr>\n",
       "      <th>0</th>\n",
       "      <td>0.377892</td>\n",
       "      <td>0.016446</td>\n",
       "      <td>0.150063</td>\n",
       "      <td>0.277457</td>\n",
       "      <td>0.944656</td>\n",
       "      <td>0.083294</td>\n",
       "      <td>0.442140</td>\n",
       "      <td>0.361793</td>\n",
       "      <td>0.185741</td>\n",
       "      <td>0.740166</td>\n",
       "      <td>...</td>\n",
       "      <td>0.823137</td>\n",
       "      <td>0.702265</td>\n",
       "      <td>0.916632</td>\n",
       "      <td>0.887439</td>\n",
       "      <td>0.719682</td>\n",
       "      <td>0.568587</td>\n",
       "      <td>0.482152</td>\n",
       "      <td>0.914599</td>\n",
       "      <td>0.012559</td>\n",
       "      <td>0.000000</td>\n",
       "    </tr>\n",
       "    <tr>\n",
       "      <th>1</th>\n",
       "      <td>0.371594</td>\n",
       "      <td>0.020501</td>\n",
       "      <td>0.150063</td>\n",
       "      <td>0.343931</td>\n",
       "      <td>0.945754</td>\n",
       "      <td>0.083897</td>\n",
       "      <td>0.447342</td>\n",
       "      <td>0.326930</td>\n",
       "      <td>0.195122</td>\n",
       "      <td>0.742574</td>\n",
       "      <td>...</td>\n",
       "      <td>0.812146</td>\n",
       "      <td>0.695793</td>\n",
       "      <td>0.898382</td>\n",
       "      <td>0.891832</td>\n",
       "      <td>0.683234</td>\n",
       "      <td>0.589075</td>\n",
       "      <td>0.481620</td>\n",
       "      <td>0.936496</td>\n",
       "      <td>0.032967</td>\n",
       "      <td>0.018868</td>\n",
       "    </tr>\n",
       "    <tr>\n",
       "      <th>2</th>\n",
       "      <td>0.368175</td>\n",
       "      <td>0.023205</td>\n",
       "      <td>0.135313</td>\n",
       "      <td>0.397399</td>\n",
       "      <td>0.955153</td>\n",
       "      <td>0.084701</td>\n",
       "      <td>0.439973</td>\n",
       "      <td>0.342938</td>\n",
       "      <td>0.191745</td>\n",
       "      <td>0.749068</td>\n",
       "      <td>...</td>\n",
       "      <td>0.802876</td>\n",
       "      <td>0.794498</td>\n",
       "      <td>0.898797</td>\n",
       "      <td>0.896247</td>\n",
       "      <td>0.702419</td>\n",
       "      <td>0.587904</td>\n",
       "      <td>0.488013</td>\n",
       "      <td>0.923358</td>\n",
       "      <td>0.072214</td>\n",
       "      <td>0.020319</td>\n",
       "    </tr>\n",
       "    <tr>\n",
       "      <th>3</th>\n",
       "      <td>0.366324</td>\n",
       "      <td>0.024106</td>\n",
       "      <td>0.134030</td>\n",
       "      <td>0.413295</td>\n",
       "      <td>0.956107</td>\n",
       "      <td>0.085505</td>\n",
       "      <td>0.440406</td>\n",
       "      <td>0.334756</td>\n",
       "      <td>0.196998</td>\n",
       "      <td>0.748298</td>\n",
       "      <td>...</td>\n",
       "      <td>0.820753</td>\n",
       "      <td>0.796117</td>\n",
       "      <td>0.899212</td>\n",
       "      <td>0.896247</td>\n",
       "      <td>0.687873</td>\n",
       "      <td>0.608977</td>\n",
       "      <td>0.489611</td>\n",
       "      <td>0.916058</td>\n",
       "      <td>0.065934</td>\n",
       "      <td>0.026851</td>\n",
       "    </tr>\n",
       "    <tr>\n",
       "      <th>4</th>\n",
       "      <td>0.381491</td>\n",
       "      <td>0.023656</td>\n",
       "      <td>0.145573</td>\n",
       "      <td>0.384393</td>\n",
       "      <td>0.957061</td>\n",
       "      <td>0.086309</td>\n",
       "      <td>0.451243</td>\n",
       "      <td>0.345607</td>\n",
       "      <td>0.193246</td>\n",
       "      <td>0.744497</td>\n",
       "      <td>...</td>\n",
       "      <td>0.812709</td>\n",
       "      <td>0.755663</td>\n",
       "      <td>0.901701</td>\n",
       "      <td>0.889625</td>\n",
       "      <td>0.682737</td>\n",
       "      <td>0.610148</td>\n",
       "      <td>0.489611</td>\n",
       "      <td>0.946715</td>\n",
       "      <td>0.056515</td>\n",
       "      <td>0.044993</td>\n",
       "    </tr>\n",
       "  </tbody>\n",
       "</table>\n",
       "<p>5 rows × 81 columns</p>\n",
       "</div>"
      ],
      "text/plain": [
       "        AAL      AAPL      ADBE       ADI       ADP      ADSK      AKAM  \\\n",
       "0  0.377892  0.016446  0.150063  0.277457  0.944656  0.083294  0.442140   \n",
       "1  0.371594  0.020501  0.150063  0.343931  0.945754  0.083897  0.447342   \n",
       "2  0.368175  0.023205  0.135313  0.397399  0.955153  0.084701  0.439973   \n",
       "3  0.366324  0.024106  0.134030  0.413295  0.956107  0.085505  0.440406   \n",
       "4  0.381491  0.023656  0.145573  0.384393  0.957061  0.086309  0.451243   \n",
       "\n",
       "       ALXN      AMAT      AMGN  ...      TSLA       TXN      VIAB       VOD  \\\n",
       "0  0.361793  0.185741  0.740166  ...  0.823137  0.702265  0.916632  0.887439   \n",
       "1  0.326930  0.195122  0.742574  ...  0.812146  0.695793  0.898382  0.891832   \n",
       "2  0.342938  0.191745  0.749068  ...  0.802876  0.794498  0.898797  0.896247   \n",
       "3  0.334756  0.196998  0.748298  ...  0.820753  0.796117  0.899212  0.896247   \n",
       "4  0.345607  0.193246  0.744497  ...  0.812709  0.755663  0.901701  0.889625   \n",
       "\n",
       "       VRTX       WBA       WDC       WFM      XLNX      YHOO  \n",
       "0  0.719682  0.568587  0.482152  0.914599  0.012559  0.000000  \n",
       "1  0.683234  0.589075  0.481620  0.936496  0.032967  0.018868  \n",
       "2  0.702419  0.587904  0.488013  0.923358  0.072214  0.020319  \n",
       "3  0.687873  0.608977  0.489611  0.916058  0.065934  0.026851  \n",
       "4  0.682737  0.610148  0.489611  0.946715  0.056515  0.044993  \n",
       "\n",
       "[5 rows x 81 columns]"
      ]
     },
     "execution_count": 182,
     "metadata": {},
     "output_type": "execute_result"
    }
   ],
   "source": [
    "x_scaler = MinMaxScaler()\n",
    "y_scaler = MinMaxScaler()\n",
    "\n",
    "columns_list = list(x_train.columns)\n",
    "x_train = x_scaler.fit_transform(x_train)\n",
    "x_test = x_scaler.transform(x_test)\n",
    "y_train = y_scaler.fit_transform(y_train)\n",
    "y_test = y_scaler.transform(y_test)\n",
    "\n",
    "y_train = y_train.squeeze()\n",
    "y_test = y_test.squeeze()\n",
    "\n",
    "print('x_train examples')\n",
    "pd.DataFrame(x_train, columns = columns_list).head()"
   ]
  },
  {
   "cell_type": "markdown",
   "metadata": {},
   "source": [
    "#### 2.2 Data Windowing"
   ]
  },
  {
   "cell_type": "code",
   "execution_count": 183,
   "metadata": {},
   "outputs": [],
   "source": [
    "def windowing_process(x, y, window_size, shift_size, last = True):\n",
    "    try:\n",
    "        x = x.reset_index(drop=True)\n",
    "        y = y.reset_index(drop=True)\n",
    "    except:\n",
    "        pass\n",
    "    \n",
    "    x_window = []\n",
    "    y_window = []\n",
    "    \n",
    "    for start_idx in range(0, x.shape[0] - window_size + 1, shift_size):\n",
    "        x_window.append(x[start_idx:start_idx + window_size])\n",
    "        \n",
    "        if last == True:\n",
    "            y_window.append(y[start_idx + window_size - 1])\n",
    "        \n",
    "        else:\n",
    "            y_window.append(np.mean(y[start_idx:start_idx + window_size]))\n",
    "    \n",
    "    x_window = np.array(x_window)\n",
    "    y_window = np.array(y_window)\n",
    "    \n",
    "    return x_window, y_window"
   ]
  },
  {
   "cell_type": "code",
   "execution_count": 184,
   "metadata": {},
   "outputs": [
    {
     "name": "stdout",
     "output_type": "stream",
     "text": [
      "x_train shape is (28388, 5, 81)\n",
      "y_train shape is (28388,)\n",
      "-----------------------------------\n",
      "x_test shape is (12164, 5, 81)\n",
      "y_test shape is (12164,)\n"
     ]
    }
   ],
   "source": [
    "x_train, y_train = windowing_process(x_train, y_train, 5, 1, True)\n",
    "x_test, y_test = windowing_process(x_test, y_test, 5, 1, True)\n",
    "\n",
    "print(f'x_train shape is {x_train.shape}')\n",
    "print(f'y_train shape is {y_train.shape}')\n",
    "print('-'*35)\n",
    "print(f'x_test shape is {x_test.shape}')\n",
    "print(f'y_test shape is {y_test.shape}')"
   ]
  },
  {
   "cell_type": "code",
   "execution_count": 185,
   "metadata": {},
   "outputs": [
    {
     "name": "stdout",
     "output_type": "stream",
     "text": [
      "x_train shape is (22710, 5, 81)\n",
      "y_train shape is (22710,)\n",
      "-----------------------------------\n",
      "x_train shape is (5678, 5, 81)\n",
      "y_train shape is (5678,)\n",
      "-----------------------------------\n",
      "x_test shape is (12164, 5, 81)\n",
      "y_test shape is (12164,)\n"
     ]
    }
   ],
   "source": [
    "n_train = int(0.8 * len(x_train))\n",
    "x_valid, y_valid = x_train[n_train:], y_train[n_train:]\n",
    "x_train, y_train = x_train[:n_train], y_train[:n_train]\n",
    "\n",
    "print(f'x_train shape is {x_train.shape}')\n",
    "print(f'y_train shape is {y_train.shape}')\n",
    "print('-'*35)\n",
    "print(f'x_train shape is {x_valid.shape}')\n",
    "print(f'y_train shape is {y_valid.shape}')\n",
    "print('-'*35)\n",
    "print(f'x_test shape is {x_test.shape}')\n",
    "print(f'y_test shape is {y_test.shape}')"
   ]
  },
  {
   "cell_type": "markdown",
   "metadata": {
    "id": "zxG4ygKAnq_e"
   },
   "source": [
    "### 3. RNN Modeling (RNN, LSTM, GRU)"
   ]
  },
  {
   "cell_type": "markdown",
   "metadata": {},
   "source": [
    "#### 3.1 Define the Model Structure"
   ]
  },
  {
   "cell_type": "code",
   "execution_count": 186,
   "metadata": {
    "id": "jmJd0HwPnq_f"
   },
   "outputs": [],
   "source": [
    "class RNN_model(nn.Module):\n",
    "    def __init__(self, input_size, hidden_size, num_layers, bidirectional, rnn_type, device='cuda'):\n",
    "        super(RNN_model, self).__init__()\n",
    "        self.hidden_size = hidden_size\n",
    "        self.num_layers = num_layers\n",
    "        self.rnn_type = rnn_type\n",
    "        self.num_directions = 2 if bidirectional == True else 1\n",
    "        self.device = device\n",
    "        \n",
    "        # rnn_type에 따른 recurrent layer 설정\n",
    "        if self.rnn_type == 'rnn':\n",
    "            self.rnn = nn.RNN(input_size, hidden_size, num_layers, batch_first=True, bidirectional=bidirectional)\n",
    "        elif self.rnn_type == 'lstm':\n",
    "            self.rnn = nn.LSTM(input_size, hidden_size, num_layers, batch_first=True, bidirectional=bidirectional)\n",
    "        elif self.rnn_type == 'gru':\n",
    "            self.rnn = nn.GRU(input_size, hidden_size, num_layers, batch_first=True, bidirectional=bidirectional)\n",
    "        \n",
    "        # bidirectional에 따른 fc layer 구축\n",
    "        # bidirectional 여부에 따라 hidden state의 shape가 달라짐 (True: 2 * hidden_size, False: hidden_size)\n",
    "        self.fc = nn.Linear(self.num_directions * hidden_size, 1)\n",
    "\n",
    "    def forward(self, x):\n",
    "        # data dimension: (batch_size x input_size x seq_len) -> (batch_size x seq_len x input_size)로 변환\n",
    "        # x = torch.transpose(x, 1, 2)\n",
    "        \n",
    "        # initial hidden states 설정\n",
    "        h0 = torch.zeros(self.num_directions * self.num_layers, x.size(0), self.hidden_size).to(self.device)\n",
    "        \n",
    "        # 선택한 rnn_type의 RNN으로부터 output 도출\n",
    "        if self.rnn_type in ['rnn', 'gru']:\n",
    "            out, _ = self.rnn(x, h0)  # out: tensor of shape (batch_size, seq_length, hidden_size)\n",
    "        else:\n",
    "            # initial cell states 설정\n",
    "            c0 = torch.zeros(self.num_directions * self.num_layers, x.size(0), self.hidden_size).to(self.device)\n",
    "            out, _ = self.rnn(x, (h0, c0))  # out: tensor of shape (batch_size, seq_length, hidden_size)\n",
    "        \n",
    "        out = self.fc(out[:, -1, :])\n",
    "        return out"
   ]
  },
  {
   "cell_type": "markdown",
   "metadata": {},
   "source": [
    "#### 3.2 Define The Training Testing Strategy"
   ]
  },
  {
   "cell_type": "code",
   "execution_count": 187,
   "metadata": {},
   "outputs": [],
   "source": [
    "class Train_Test():\n",
    "    def __init__(self,  train_loader, valid_loader, test_loader, input_size, device='cuda'): \n",
    "        self.train_loader = train_loader\n",
    "        self.valid_loader = valid_loader\n",
    "        self.test_loader = test_loader\n",
    "\n",
    "        self.input_size = input_size\n",
    "\n",
    "    def train(self, model, dataloaders, criterion, num_epochs, optimizer):\n",
    "        since = time.time() \n",
    "        \n",
    "        train_loss_history = []\n",
    "        val_loss_history = []\n",
    "\n",
    "        best_model_wts = copy.deepcopy(model.state_dict()) # 모델의 초기 Weight값 (각 Layer 별 초기 Weight값이 저장되어 있음)\n",
    "        best_loss = 999999999\n",
    "\n",
    "        for epoch in range(num_epochs):\n",
    "            if epoch == 0 or (epoch + 1) % 10 == 0:\n",
    "                print()\n",
    "                print('Epoch {}/{}'.format(epoch + 1, num_epochs))\n",
    "\n",
    "            # 각 epoch마다 순서대로 training과 validation을 진행\n",
    "            for phase in ['train', 'val']:\n",
    "                if phase == 'train':\n",
    "                    model.train()  # 모델을 training mode로 설정\n",
    "                else:\n",
    "                    model.eval()   # 모델을 validation mode로 설정\n",
    "\n",
    "                running_loss = 0.0\n",
    "                running_total = 0\n",
    "\n",
    "                # training과 validation 단계에 맞는 dataloader에 대하여 학습/검증 진행\n",
    "                for inputs, targets in dataloaders[phase]:\n",
    "                    inputs = inputs.to(device)\n",
    "                    targets = targets.to(device)\n",
    "                    # seq_lens = seq_lens.to(self.parameter['device'])\n",
    "                    \n",
    "                    # parameter gradients를 0으로 설정\n",
    "                    optimizer.zero_grad()\n",
    "\n",
    "                    # forward\n",
    "                    # training 단계에서만 gradient 업데이트 수행\n",
    "                    with torch.set_grad_enabled(phase == 'train'):\n",
    "\n",
    "                        # input을 model에 넣어 output을 도출한 후, loss를 계산함\n",
    "                        outputs = model(inputs)\n",
    "                        outputs = outputs.reshape(-1)\n",
    "                        \n",
    "                        loss = criterion(outputs, targets)\n",
    "\n",
    "                        # backward (optimize): training 단계에서만 수행\n",
    "                        if phase == 'train':\n",
    "                            loss.backward()\n",
    "                            optimizer.step()\n",
    "\n",
    "                    # batch별 loss를 축적함\n",
    "                    running_loss += loss.item() * inputs.size(0)\n",
    "                    running_total += targets.size(0)\n",
    "\n",
    "                # epoch의 loss 및 accuracy 도출\n",
    "                epoch_loss = running_loss / running_total\n",
    "                                    \n",
    "                if epoch == 0 or (epoch + 1) % 10 == 0:\n",
    "                    print('{} Loss: {:.4f}'.format(phase, epoch_loss))\n",
    "\n",
    "                # validation 단계에서 validation loss가 감소할 때마다 best model 가중치를 업데이트함\n",
    "                if phase == 'val' and epoch_loss < best_loss:\n",
    "                    best_loss = epoch_loss\n",
    "                    best_model_wts = copy.deepcopy(model.state_dict())\n",
    "                if phase == 'train':\n",
    "                    train_loss_history.append(epoch_loss)\n",
    "                elif phase == 'val':\n",
    "                    val_loss_history.append(epoch_loss)\n",
    "\n",
    "        # 전체 학습 시간 계산 (학습이 완료된 후)\n",
    "        time_elapsed = time.time() - since\n",
    "        print('\\nTraining complete in {:.0f}m {:.0f}s'.format(time_elapsed // 60, time_elapsed % 60))\n",
    "        print('Best val MSE: {:4f}'.format(best_loss))\n",
    "\n",
    "        # validation loss가 가장 낮았을 때의 best model 가중치를 불러와 best model을 구축함\n",
    "        model.load_state_dict(best_model_wts)\n",
    "        return model, train_loss_history, val_loss_history\n",
    "\n",
    "    def test(self, model, test_loader):\n",
    "        model.eval()   # 모델을 validation mode로 설정\n",
    "        \n",
    "        # test_loader에 대하여 검증 진행 (gradient update 방지)\n",
    "        with torch.no_grad():\n",
    "\n",
    "            preds = []\n",
    "            y_true = []\n",
    "            for inputs, targets in test_loader:\n",
    "                inputs = inputs.to(device)\n",
    "                targets = targets.to(device)\n",
    "\n",
    "                # forward\n",
    "                # input을 model에 넣어 output을 도출\n",
    "                pred = model(inputs)\n",
    "                \n",
    "                preds.extend(pred.detach().cpu().numpy())\n",
    "                y_true.extend(targets.detach().cpu().numpy())\n",
    "\n",
    "            preds = torch.tensor(preds).reshape(-1)\n",
    "            y_true = torch.tensor(y_true)\n",
    "            \n",
    "            mse = nn.MSELoss()(preds, y_true).item()\n",
    "            preds = preds.detach().cpu().numpy()\n",
    "        return preds, mse"
   ]
  },
  {
   "cell_type": "markdown",
   "metadata": {},
   "source": [
    "### 4. Model Training"
   ]
  },
  {
   "cell_type": "markdown",
   "metadata": {},
   "source": [
    "#### RNN"
   ]
  },
  {
   "cell_type": "markdown",
   "metadata": {},
   "source": [
    "#### 4.1 Hyperparameter Setting"
   ]
  },
  {
   "cell_type": "code",
   "execution_count": 188,
   "metadata": {},
   "outputs": [],
   "source": [
    "batch_size = 128\n",
    "input_size = x_train.shape[2]\n",
    "hidden_size = 64\n",
    "num_layers = 2\n",
    "bidirectional = True\n",
    "num_epochs = 200\n",
    "device = torch.device(\"cuda:0\" if torch.cuda.is_available() else 'cpu') \n",
    "rnn_type='rnn'\n",
    "rnn_best_model_path = f'./ckpt/{rnn_type}_reg.pt'"
   ]
  },
  {
   "cell_type": "markdown",
   "metadata": {},
   "source": [
    "#### 4.2 Construct Data Loaders and Model"
   ]
  },
  {
   "cell_type": "code",
   "execution_count": 189,
   "metadata": {},
   "outputs": [],
   "source": [
    "datasets = []\n",
    "for dataset in [(x_train, y_train), (x_valid, y_valid), (x_test, y_test)]:\n",
    "    x_data = dataset[0]\n",
    "    y_data = dataset[1]\n",
    "    datasets.append(torch.utils.data.TensorDataset(torch.Tensor(x_data), torch.Tensor(y_data)))\n",
    "\n",
    "trainset, validset, testset = datasets[0], datasets[1], datasets[2]\n",
    "train_loader = torch.utils.data.DataLoader(trainset, batch_size=batch_size, shuffle=True)\n",
    "valid_loader = torch.utils.data.DataLoader(validset, batch_size=batch_size, shuffle=True)\n",
    "test_loader = torch.utils.data.DataLoader(testset, batch_size=batch_size, shuffle=False)\n",
    "\n",
    "dataloaders_dict = {'train': train_loader, 'val': valid_loader}"
   ]
  },
  {
   "cell_type": "code",
   "execution_count": 190,
   "metadata": {},
   "outputs": [],
   "source": [
    "rnn_model = RNN_model(input_size, hidden_size, num_layers, bidirectional, rnn_type, device)\n",
    "rnn_model = rnn_model.to(device)"
   ]
  },
  {
   "cell_type": "code",
   "execution_count": 191,
   "metadata": {},
   "outputs": [
    {
     "data": {
      "text/plain": [
       "RNN_model(\n",
       "  (rnn): RNN(81, 64, num_layers=2, batch_first=True, bidirectional=True)\n",
       "  (fc): Linear(in_features=128, out_features=1, bias=True)\n",
       ")"
      ]
     },
     "execution_count": 191,
     "metadata": {},
     "output_type": "execute_result"
    }
   ],
   "source": [
    "rnn_model"
   ]
  },
  {
   "cell_type": "code",
   "execution_count": 192,
   "metadata": {},
   "outputs": [],
   "source": [
    "rnn_trainer = Train_Test(train_loader, valid_loader, test_loader, input_size, device)"
   ]
  },
  {
   "cell_type": "markdown",
   "metadata": {},
   "source": [
    "#### 4.3 Model Training and Save Weights(Parameters)"
   ]
  },
  {
   "cell_type": "markdown",
   "metadata": {},
   "source": [
    "#### LSTM"
   ]
  },
  {
   "cell_type": "markdown",
   "metadata": {},
   "source": [
    "#### 4.1 Hyperparameter Setting"
   ]
  },
  {
   "cell_type": "code",
   "execution_count": 81,
   "metadata": {},
   "outputs": [],
   "source": [
    "batch_size = 128\n",
    "input_size = x_train.shape[2]\n",
    "hidden_size = 64\n",
    "num_layers = 2\n",
    "bidirectional = True\n",
    "num_epochs = 200\n",
    "device = torch.device(\"cuda:0\" if torch.cuda.is_available() else 'cpu') \n",
    "rnn_type='lstm'\n",
    "lstm_best_model_path = f'./ckpt/{rnn_type}_reg.pt'"
   ]
  },
  {
   "cell_type": "markdown",
   "metadata": {},
   "source": [
    "#### 4.2 Construct Data Loaders and Model"
   ]
  },
  {
   "cell_type": "code",
   "execution_count": 38,
   "metadata": {},
   "outputs": [],
   "source": [
    "lstm_model = RNN_model(input_size, hidden_size, num_layers, bidirectional, rnn_type, device)\n",
    "lstm_model = lstm_model.to(device)"
   ]
  },
  {
   "cell_type": "code",
   "execution_count": 39,
   "metadata": {},
   "outputs": [
    {
     "data": {
      "text/plain": [
       "RNN_model(\n",
       "  (rnn): LSTM(81, 64, num_layers=2, batch_first=True, bidirectional=True)\n",
       "  (fc): Linear(in_features=128, out_features=1, bias=True)\n",
       ")"
      ]
     },
     "execution_count": 39,
     "metadata": {},
     "output_type": "execute_result"
    }
   ],
   "source": [
    "lstm_model"
   ]
  },
  {
   "cell_type": "code",
   "execution_count": 30,
   "metadata": {},
   "outputs": [],
   "source": [
    "criterion = nn.MSELoss()\n",
    "optimizer = optim.Adam(lstm_model.parameters(), lr=0.0001)"
   ]
  },
  {
   "cell_type": "markdown",
   "metadata": {},
   "source": [
    "#### 4.3 Model Training and Save Weights(Parameters)"
   ]
  },
  {
   "cell_type": "code",
   "execution_count": 31,
   "metadata": {},
   "outputs": [
    {
     "name": "stdout",
     "output_type": "stream",
     "text": [
      "\n",
      "Epoch 1/200\n",
      "train Loss: 0.0857\n",
      "val Loss: 0.0287\n",
      "\n",
      "Epoch 10/200\n",
      "train Loss: 0.0002\n",
      "val Loss: 0.0177\n",
      "\n",
      "Epoch 20/200\n",
      "train Loss: 0.0001\n",
      "val Loss: 0.0151\n",
      "\n",
      "Epoch 30/200\n",
      "train Loss: 0.0001\n",
      "val Loss: 0.0138\n",
      "\n",
      "Epoch 40/200\n",
      "train Loss: 0.0000\n",
      "val Loss: 0.0127\n",
      "\n",
      "Epoch 50/200\n",
      "train Loss: 0.0000\n",
      "val Loss: 0.0120\n",
      "\n",
      "Epoch 60/200\n",
      "train Loss: 0.0000\n",
      "val Loss: 0.0112\n",
      "\n",
      "Epoch 70/200\n",
      "train Loss: 0.0000\n",
      "val Loss: 0.0108\n",
      "\n",
      "Epoch 80/200\n",
      "train Loss: 0.0000\n",
      "val Loss: 0.0098\n",
      "\n",
      "Epoch 90/200\n",
      "train Loss: 0.0000\n",
      "val Loss: 0.0091\n",
      "\n",
      "Epoch 100/200\n",
      "train Loss: 0.0000\n",
      "val Loss: 0.0086\n",
      "\n",
      "Epoch 110/200\n",
      "train Loss: 0.0000\n",
      "val Loss: 0.0081\n",
      "\n",
      "Epoch 120/200\n",
      "train Loss: 0.0000\n",
      "val Loss: 0.0079\n",
      "\n",
      "Epoch 130/200\n",
      "train Loss: 0.0000\n",
      "val Loss: 0.0073\n",
      "\n",
      "Epoch 140/200\n",
      "train Loss: 0.0000\n",
      "val Loss: 0.0067\n",
      "\n",
      "Epoch 150/200\n",
      "train Loss: 0.0000\n",
      "val Loss: 0.0064\n",
      "\n",
      "Epoch 160/200\n",
      "train Loss: 0.0000\n",
      "val Loss: 0.0061\n",
      "\n",
      "Epoch 170/200\n",
      "train Loss: 0.0000\n",
      "val Loss: 0.0058\n",
      "\n",
      "Epoch 180/200\n",
      "train Loss: 0.0000\n",
      "val Loss: 0.0054\n",
      "\n",
      "Epoch 190/200\n",
      "train Loss: 0.0000\n",
      "val Loss: 0.0051\n",
      "\n",
      "Epoch 200/200\n",
      "train Loss: 0.0000\n",
      "val Loss: 0.0051\n",
      "\n",
      "Training complete in 18m 59s\n",
      "Best val MSE: 0.004909\n"
     ]
    }
   ],
   "source": [
    "lstm_trainer = Train_Test(train_loader, valid_loader, test_loader, input_size, device)\n",
    "lstm_best_model, lstm_train_loss_history, lstm_val_loss_history = lstm_trainer.train(lstm_model, dataloaders_dict, criterion, num_epochs, optimizer)"
   ]
  },
  {
   "cell_type": "code",
   "execution_count": 40,
   "metadata": {},
   "outputs": [
    {
     "data": {
      "text/plain": [
       "Text(0, 0.5, 'loss')"
      ]
     },
     "execution_count": 40,
     "metadata": {},
     "output_type": "execute_result"
    },
    {
     "data": {
      "image/png": "[encoded data removed]",
      "text/plain": [
       "<Figure size 576x360 with 1 Axes>"
      ]
     },
     "metadata": {
      "needs_background": "light"
     },
     "output_type": "display_data"
    }
   ],
   "source": [
    "plt.figure(figsize=(8,5))\n",
    "plt.title('Loss History (LSTM)')\n",
    "plt.plot(range(num_epochs), lstm_train_loss_history, c='blue', label='Train Loss')\n",
    "plt.plot(range(num_epochs), lstm_val_loss_history, c='red', label='Validation Loss')\n",
    "plt.legend()\n",
    "plt.xlabel('epoch')\n",
    "plt.ylabel('loss')"
   ]
  },
  {
   "cell_type": "code",
   "execution_count": 41,
   "metadata": {},
   "outputs": [],
   "source": [
    "torch.save(lstm_best_model.state_dict(), lstm_best_model_path)"
   ]
  },
  {
   "cell_type": "markdown",
   "metadata": {},
   "source": [
    "#### GRU"
   ]
  },
  {
   "cell_type": "markdown",
   "metadata": {},
   "source": [
    "#### 4.1 Hyperparameter Setting"
   ]
  },
  {
   "cell_type": "code",
   "execution_count": 42,
   "metadata": {},
   "outputs": [],
   "source": [
    "batch_size = 128\n",
    "input_size = x_train.shape[2]\n",
    "hidden_size = 64\n",
    "num_layers = 2\n",
    "bidirectional = True\n",
    "num_epochs = 200\n",
    "device = torch.device(\"cuda:0\" if torch.cuda.is_available() else 'cpu') \n",
    "rnn_type='gru'\n",
    "gru_best_model_path = f'./ckpt/{rnn_type}_reg.pt'"
   ]
  },
  {
   "cell_type": "markdown",
   "metadata": {},
   "source": [
    "#### 4.2 Construct Data Loaders and Model"
   ]
  },
  {
   "cell_type": "code",
   "execution_count": 43,
   "metadata": {},
   "outputs": [],
   "source": [
    "gru_model = RNN_model(input_size, hidden_size, num_layers, bidirectional, rnn_type, device)\n",
    "gru_model = gru_model.to(device)"
   ]
  },
  {
   "cell_type": "code",
   "execution_count": 44,
   "metadata": {},
   "outputs": [
    {
     "data": {
      "text/plain": [
       "RNN_model(\n",
       "  (rnn): GRU(81, 64, num_layers=2, batch_first=True, bidirectional=True)\n",
       "  (fc): Linear(in_features=128, out_features=1, bias=True)\n",
       ")"
      ]
     },
     "execution_count": 44,
     "metadata": {},
     "output_type": "execute_result"
    }
   ],
   "source": [
    "gru_model"
   ]
  },
  {
   "cell_type": "code",
   "execution_count": 45,
   "metadata": {},
   "outputs": [],
   "source": [
    "criterion = nn.MSELoss()\n",
    "optimizer = optim.Adam(gru_model.parameters(), lr=0.0001)"
   ]
  },
  {
   "cell_type": "markdown",
   "metadata": {},
   "source": [
    "#### 4.3 Model Training and Save Weights(Parameters)"
   ]
  },
  {
   "cell_type": "code",
   "execution_count": 46,
   "metadata": {},
   "outputs": [
    {
     "name": "stdout",
     "output_type": "stream",
     "text": [
      "\n",
      "Epoch 1/200\n",
      "train Loss: 0.0635\n",
      "val Loss: 0.0259\n",
      "\n",
      "Epoch 10/200\n",
      "train Loss: 0.0002\n",
      "val Loss: 0.0347\n",
      "\n",
      "Epoch 20/200\n",
      "train Loss: 0.0001\n",
      "val Loss: 0.0263\n",
      "\n",
      "Epoch 30/200\n",
      "train Loss: 0.0001\n",
      "val Loss: 0.0224\n",
      "\n",
      "Epoch 40/200\n",
      "train Loss: 0.0000\n",
      "val Loss: 0.0173\n",
      "\n",
      "Epoch 50/200\n",
      "train Loss: 0.0000\n",
      "val Loss: 0.0128\n",
      "\n",
      "Epoch 60/200\n",
      "train Loss: 0.0000\n",
      "val Loss: 0.0089\n",
      "\n",
      "Epoch 70/200\n",
      "train Loss: 0.0000\n",
      "val Loss: 0.0065\n",
      "\n",
      "Epoch 80/200\n",
      "train Loss: 0.0000\n",
      "val Loss: 0.0045\n",
      "\n",
      "Epoch 90/200\n",
      "train Loss: 0.0000\n",
      "val Loss: 0.0036\n",
      "\n",
      "Epoch 100/200\n",
      "train Loss: 0.0000\n",
      "val Loss: 0.0029\n",
      "\n",
      "Epoch 110/200\n",
      "train Loss: 0.0000\n",
      "val Loss: 0.0025\n",
      "\n",
      "Epoch 120/200\n",
      "train Loss: 0.0000\n",
      "val Loss: 0.0022\n",
      "\n",
      "Epoch 130/200\n",
      "train Loss: 0.0000\n",
      "val Loss: 0.0019\n",
      "\n",
      "Epoch 140/200\n",
      "train Loss: 0.0000\n",
      "val Loss: 0.0017\n",
      "\n",
      "Epoch 150/200\n",
      "train Loss: 0.0000\n",
      "val Loss: 0.0016\n",
      "\n",
      "Epoch 160/200\n",
      "train Loss: 0.0000\n",
      "val Loss: 0.0014\n",
      "\n",
      "Epoch 170/200\n",
      "train Loss: 0.0000\n",
      "val Loss: 0.0014\n",
      "\n",
      "Epoch 180/200\n",
      "train Loss: 0.0000\n",
      "val Loss: 0.0013\n",
      "\n",
      "Epoch 190/200\n",
      "train Loss: 0.0000\n",
      "val Loss: 0.0012\n",
      "\n",
      "Epoch 200/200\n",
      "train Loss: 0.0000\n",
      "val Loss: 0.0012\n",
      "\n",
      "Training complete in 16m 41s\n",
      "Best val MSE: 0.001161\n"
     ]
    }
   ],
   "source": [
    "gru_trainer = Train_Test(train_loader, valid_loader, test_loader, input_size, device)\n",
    "gru_best_model, gru_train_loss_history, gru_val_loss_history = gru_trainer.train(gru_model, dataloaders_dict, criterion, num_epochs, optimizer)"
   ]
  },
  {
   "cell_type": "code",
   "execution_count": 47,
   "metadata": {},
   "outputs": [
    {
     "data": {
      "text/plain": [
       "Text(0, 0.5, 'loss')"
      ]
     },
     "execution_count": 47,
     "metadata": {},
     "output_type": "execute_result"
    },
    {
     "data": {
      "image/png": "[encoded data removed]",
      "text/plain": [
       "<Figure size 576x360 with 1 Axes>"
      ]
     },
     "metadata": {
      "needs_background": "light"
     },
     "output_type": "display_data"
    }
   ],
   "source": [
    "plt.figure(figsize=(8,5))\n",
    "plt.title('Loss History (GRU)')\n",
    "plt.plot(range(num_epochs), gru_train_loss_history, c='blue', label='Train Loss')\n",
    "plt.plot(range(num_epochs), gru_val_loss_history, c='red', label='Validation Loss')\n",
    "plt.legend()\n",
    "plt.xlabel('epoch')\n",
    "plt.ylabel('loss')"
   ]
  },
  {
   "cell_type": "code",
   "execution_count": 48,
   "metadata": {},
   "outputs": [],
   "source": [
    "torch.save(gru_best_model.state_dict(), gru_best_model_path)"
   ]
  },
  {
   "cell_type": "markdown",
   "metadata": {},
   "source": [
    "### 5. Attention Mechanism"
   ]
  },
  {
   "cell_type": "markdown",
   "metadata": {},
   "source": [
    "#### 5.1 Define the Model Structure"
   ]
  },
  {
   "cell_type": "code",
   "execution_count": 63,
   "metadata": {},
   "outputs": [],
   "source": [
    "class Attention(nn.Module):\n",
    "    def __init__(self, hidden_size, device):\n",
    "        super(Attention, self).__init__()\n",
    "        self.device = device\n",
    "        self.hidden_size = hidden_size\n",
    "        self.concat_linear = nn.Linear(self.hidden_size * 2, self.hidden_size)\n",
    "        self.attn = nn.Linear(self.hidden_size, self.hidden_size)\n",
    "\n",
    "    def forward(self, rnn_outputs, final_hidden_state):\n",
    "        # rnn_output.shape:         (batch_size, seq_len, hidden_size)\n",
    "        # final_hidden_state.shape: (batch_size, hidden_size)\n",
    "        \n",
    "        batch_size, seq_len, _ = rnn_outputs.shape\n",
    "        \n",
    "        attn_value = self.attn(rnn_outputs) # (batch_size, seq_len, hidden_dim)\n",
    "        final_hidden_state = final_hidden_state.unsqueeze(2) # (batch_size, hidden_dim, 1)\n",
    "        attn_value = torch.bmm(attn_value, final_hidden_state) # (batch_size, seq_len, 1)\n",
    "        attn_probability = F.softmax(attn_value.squeeze(2), dim=1) # (batch_size, seq_len)\n",
    "\n",
    "        context = torch.bmm(rnn_outputs.transpose(1, 2), attn_probability.unsqueeze(2)).squeeze(2)\n",
    "                 # (batch_size, hidden_size, seq_len) X (batch_size, seq_len, 1) = (batch_size, hidden_size)\n",
    "        attn_hidden = torch.tanh(self.concat_linear(torch.cat((context, final_hidden_state.squeeze(2)), dim=1)))\n",
    "        # attn_hidden = torch.tanh(context)\n",
    "        return attn_hidden, attn_probability"
   ]
  },
  {
   "cell_type": "code",
   "execution_count": 64,
   "metadata": {},
   "outputs": [],
   "source": [
    "class RNN_Attention(nn.Module):\n",
    "    def __init__(self, input_size, hidden_size, num_layers, num_classes, bidirectional, rnn_type, device='cuda'):\n",
    "        super(RNN_Attention, self).__init__()\n",
    "        self.hidden_size = hidden_size\n",
    "        self.num_layers = num_layers\n",
    "        self.num_directions = 2 if bidirectional == True else 1\n",
    "        self.rnn_type = rnn_type\n",
    "        self.num_classes = num_classes\n",
    "        \n",
    "        # rnn_type에 따른 recurrent layer 설정\n",
    "        if self.rnn_type == 'rnn':\n",
    "            self.rnn = nn.RNN(input_size, hidden_size, num_layers, batch_first=True, bidirectional=bidirectional)\n",
    "        elif self.rnn_type == 'lstm':\n",
    "            self.rnn = nn.LSTM(input_size, hidden_size, num_layers, batch_first=True, bidirectional=bidirectional)\n",
    "        elif self.rnn_type == 'gru':\n",
    "            self.rnn = nn.GRU(input_size, hidden_size, num_layers, batch_first=True, bidirectional=bidirectional)\n",
    "        self.attn = Attention(hidden_size * self.num_directions, device)\n",
    "        self.fc = nn.Linear(hidden_size * self.num_directions, num_classes)\n",
    "\n",
    "    def forward(self, x):\n",
    "        batch_size, _, seq_len = x.shape\n",
    "        \n",
    "        # data dimension: (batch_size x input_size x seq_len) -> (batch_size x seq_len x input_size)로 변환\n",
    "        # x = torch.transpose(x, 1, 2)\n",
    "        \n",
    "        # initial hidden states 설정\n",
    "        h0 = torch.zeros(self.num_layers * self.num_directions, batch_size, self.hidden_size).to(device)\n",
    "        \n",
    "        # 선택한 rnn_type의 RNN으로부터 output 도출\n",
    "        if self.rnn_type in ['rnn', 'gru']:\n",
    "            out, hidden = self.rnn(x, h0)  # out: tensor of shape (batch_size, seq_length, hidden_size)\n",
    "        else:\n",
    "            # initial cell states 설정\n",
    "            c0 = torch.zeros(self.num_directions * self.num_layers, x.size(0), self.hidden_size).to(self.device)\n",
    "            out, hidden = self.rnn(x, (h0, c0))  # out: tensor of shape (batch_size, seq_length, hidden_size)\n",
    "        \n",
    "        final_state = hidden.view(self.num_layers, self.num_directions, batch_size, self.hidden_size)[-1]\n",
    "        \n",
    "        # Handle directions\n",
    "        final_hidden_state = None\n",
    "        if self.num_directions == 1:\n",
    "            final_hidden_state = final_state.squeeze(0)\n",
    "        elif self.num_directions == 2:\n",
    "            h_1, h_2 = final_state[0], final_state[1]\n",
    "            final_hidden_state = torch.cat((h_1, h_2), 1)  # Concatenate both states\n",
    "\n",
    "        # Push through attention layer\n",
    "        attn_output, attn_scores = self.attn(out, final_hidden_state)\n",
    "        attn_output = self.fc(attn_output)\n",
    "        return attn_output, attn_scores"
   ]
  },
  {
   "cell_type": "markdown",
   "metadata": {},
   "source": [
    "#### 5.2 Define The Training Testing Strategy"
   ]
  },
  {
   "cell_type": "code",
   "execution_count": 111,
   "metadata": {},
   "outputs": [],
   "source": [
    "class Train_Test_Attention():\n",
    "    def __init__(self,  train_loader, valid_loader, test_loader, input_size, num_classes, device='cuda'): ##### config는 jupyter 파일을 참고\n",
    "        \"\"\"\n",
    "        Initialize Train_Test class\n",
    "\n",
    "        :param config: configuration\n",
    "        :type config: dictionary\n",
    "\n",
    "        :param train_loader: train dataloader\n",
    "        :type config: DataLoader\n",
    "\n",
    "        :param valid_loader: validation dataloader\n",
    "        :type config: DataLoader\n",
    "\n",
    "        :param test_loader: test dataloader\n",
    "        :type config: DataLoader\n",
    "        \"\"\"\n",
    "\n",
    "        self.train_loader = train_loader\n",
    "        self.valid_loader = valid_loader\n",
    "        self.test_loader = test_loader\n",
    "\n",
    "        self.input_size = input_size\n",
    "        self.num_classes = num_classes\n",
    "\n",
    "    def train(self, model, dataloaders, criterion, num_epochs, optimizer):\n",
    "        \"\"\"\n",
    "        Train the model\n",
    "\n",
    "        :param model: initialized model\n",
    "        :type model: model\n",
    "\n",
    "        :param dataloaders: train & validation dataloaders\n",
    "        :type dataloaders: dictionary\n",
    "\n",
    "        :param criterion: loss function for training\n",
    "        :type criterion: criterion\n",
    "\n",
    "        :param num_epochs: the number of train epochs\n",
    "        :type num_epochs: int\n",
    "\n",
    "        :param optimizer: optimizer used in training\n",
    "        :type optimizer: optimizer\n",
    "\n",
    "        :return: trained model\n",
    "        :rtype: model\n",
    "        \"\"\"\n",
    "\n",
    "        since = time.time() \n",
    "        \n",
    "        train_loss_history = []\n",
    "        val_loss_history = []\n",
    "\n",
    "        best_model_wts = copy.deepcopy(model.state_dict()) # 모델의 초기 Weight값 (각 Layer 별 초기 Weight값이 저장되어 있음)\n",
    "        best_loss = 999999999\n",
    "\n",
    "        for epoch in range(num_epochs):\n",
    "            if epoch == 0 or (epoch + 1) % 10 == 0:\n",
    "                print()\n",
    "                print('Epoch {}/{}'.format(epoch + 1, num_epochs))\n",
    "\n",
    "            # 각 epoch마다 순서대로 training과 validation을 진행\n",
    "            for phase in ['train', 'val']:\n",
    "                if phase == 'train':\n",
    "                    model.train()  # 모델을 training mode로 설정\n",
    "                else:\n",
    "                    model.eval()   # 모델을 validation mode로 설정\n",
    "\n",
    "                running_loss = 0.0\n",
    "                running_total = 0\n",
    "\n",
    "                # training과 validation 단계에 맞는 dataloader에 대하여 학습/검증 진행\n",
    "                for inputs, targets in dataloaders[phase]:\n",
    "                    inputs = inputs.to(device)\n",
    "                    targets = targets.to(device)\n",
    "                    # seq_lens = seq_lens.to(self.parameter['device'])\n",
    "                    \n",
    "                    # parameter gradients를 0으로 설정\n",
    "                    optimizer.zero_grad()\n",
    "\n",
    "                    # forward\n",
    "                    # training 단계에서만 gradient 업데이트 수행\n",
    "                    with torch.set_grad_enabled(phase == 'train'):\n",
    "\n",
    "                        # input을 model에 넣어 output을 도출한 후, loss를 계산함\n",
    "                        outputs, attn_scores = model(inputs)\n",
    "                        outputs = outputs.reshape(-1)\n",
    "                        \n",
    "                        loss = criterion(outputs, targets)\n",
    "\n",
    "                        # backward (optimize): training 단계에서만 수행\n",
    "                        if phase == 'train':\n",
    "                            loss.backward()\n",
    "                            optimizer.step()\n",
    "\n",
    "                    # batch별 loss를 축적함\n",
    "                    running_loss += loss.item() * inputs.size(0)\n",
    "                    running_total += targets.size(0)\n",
    "\n",
    "                # epoch의 loss 및 accuracy 도출\n",
    "                epoch_loss = running_loss / running_total\n",
    "                                    \n",
    "                if epoch == 0 or (epoch + 1) % 10 == 0:\n",
    "                    print('{} Loss: {:.4f}'.format(phase, epoch_loss))\n",
    "\n",
    "                # validation 단계에서 validation loss가 감소할 때마다 best model 가중치를 업데이트함\n",
    "                if phase == 'val' and epoch_loss < best_loss:\n",
    "                    best_loss = epoch_loss\n",
    "                    best_model_wts = copy.deepcopy(model.state_dict())\n",
    "                if phase == 'train':\n",
    "                    train_loss_history.append(epoch_loss)\n",
    "                elif phase == 'val':\n",
    "                    val_loss_history.append(epoch_loss)\n",
    "\n",
    "        # 전체 학습 시간 계산 (학습이 완료된 후)\n",
    "        time_elapsed = time.time() - since\n",
    "        print('\\nTraining complete in {:.0f}m {:.0f}s'.format(time_elapsed // 60, time_elapsed % 60))\n",
    "        print('Best val MSE: {:4f}'.format(best_loss))\n",
    "\n",
    "        # validation loss가 가장 낮았을 때의 best model 가중치를 불러와 best model을 구축함\n",
    "        model.load_state_dict(best_model_wts)\n",
    "        return model, train_loss_history, val_loss_history, attn_scores\n",
    "\n",
    "    def test(self, model, test_loader):\n",
    "        \"\"\"\n",
    "        Predict classes for test dataset based on the trained model\n",
    "\n",
    "        :param model: best trained model\n",
    "        :type model: model\n",
    "\n",
    "        :param test_loader: test dataloader\n",
    "        :type test_loader: DataLoader\n",
    "\n",
    "        :return: predicted classes\n",
    "        :rtype: numpy array\n",
    "\n",
    "        :return: prediction probabilities\n",
    "        :rtype: numpy array\n",
    "\n",
    "        :return: test accuracy\n",
    "        :rtype: float\n",
    "        \"\"\"\n",
    "\n",
    "        model.eval()   # 모델을 validation mode로 설정\n",
    "        \n",
    "        # test_loader에 대하여 검증 진행 (gradient update 방지)\n",
    "        with torch.no_grad():\n",
    "\n",
    "            preds = []\n",
    "            y_true = []\n",
    "            attn_scores = []\n",
    "            for inputs, targets in test_loader:\n",
    "                inputs = inputs.to(device)\n",
    "                targets = targets.to(device)\n",
    "\n",
    "                # forward\n",
    "                # input을 model에 넣어 output을 도출\n",
    "                pred, attn_score = model(inputs)\n",
    "                \n",
    "                preds.extend(pred.detach().cpu().numpy())\n",
    "                y_true.extend(targets.detach().cpu().numpy())\n",
    "                attn_scores.extend(attn_score.detach().cpu().tolist())\n",
    "                \n",
    "            preds = torch.tensor(preds).reshape(-1)\n",
    "            y_true = torch.tensor(y_true)\n",
    "            attn_scores = torch.tensor(attn_scores)\n",
    "            \n",
    "            mse = nn.MSELoss()(preds, y_true).item()\n",
    "            preds = preds.detach().cpu().numpy()\n",
    "            attn_scores = attn_scores.detach().cpu().numpy()\n",
    "        return preds, mse, attn_scores"
   ]
  },
  {
   "cell_type": "markdown",
   "metadata": {},
   "source": [
    "#### 5.3 Model Training"
   ]
  },
  {
   "cell_type": "code",
   "execution_count": 201,
   "metadata": {},
   "outputs": [],
   "source": [
    "batch_size = 128\n",
    "input_size = x_train.shape[2]\n",
    "hidden_size = 64\n",
    "num_layers = 2\n",
    "bidirectional = True\n",
    "num_epochs = 500\n",
    "num_classes = 1\n",
    "device = torch.device(\"cuda:0\" if torch.cuda.is_available() else 'cpu') \n",
    "rnn_type='rnn'\n",
    "attn_best_model_path = f'./ckpt/{rnn_type}_with_attn_reg.pt'"
   ]
  },
  {
   "cell_type": "code",
   "execution_count": 202,
   "metadata": {},
   "outputs": [],
   "source": [
    "attn_model = RNN_Attention(input_size, hidden_size, num_layers, num_classes, bidirectional, rnn_type, device)\n",
    "attn_model = attn_model.to(device)"
   ]
  },
  {
   "cell_type": "code",
   "execution_count": 203,
   "metadata": {},
   "outputs": [
    {
     "data": {
      "text/plain": [
       "RNN_Attention(\n",
       "  (rnn): RNN(81, 64, num_layers=2, batch_first=True, bidirectional=True)\n",
       "  (attn): Attention(\n",
       "    (concat_linear): Linear(in_features=256, out_features=128, bias=True)\n",
       "    (attn): Linear(in_features=128, out_features=128, bias=True)\n",
       "  )\n",
       "  (fc): Linear(in_features=128, out_features=1, bias=True)\n",
       ")"
      ]
     },
     "execution_count": 203,
     "metadata": {},
     "output_type": "execute_result"
    }
   ],
   "source": [
    "attn_model"
   ]
  },
  {
   "cell_type": "code",
   "execution_count": 204,
   "metadata": {},
   "outputs": [],
   "source": [
    "criterion = nn.MSELoss()\n",
    "optimizer = optim.Adam(attn_model.parameters(), lr=0.0001)"
   ]
  },
  {
   "cell_type": "code",
   "execution_count": 205,
   "metadata": {},
   "outputs": [
    {
     "name": "stdout",
     "output_type": "stream",
     "text": [
      "\n",
      "Epoch 1/500\n",
      "train Loss: 0.0139\n",
      "val Loss: 0.0252\n",
      "\n",
      "Epoch 10/500\n",
      "train Loss: 0.0001\n",
      "val Loss: 0.0284\n",
      "\n",
      "Epoch 20/500\n",
      "train Loss: 0.0000\n",
      "val Loss: 0.0287\n",
      "\n",
      "Epoch 30/500\n",
      "train Loss: 0.0000\n",
      "val Loss: 0.0227\n",
      "\n",
      "Epoch 40/500\n",
      "train Loss: 0.0000\n",
      "val Loss: 0.0176\n",
      "\n",
      "Epoch 50/500\n",
      "train Loss: 0.0000\n",
      "val Loss: 0.0130\n",
      "\n",
      "Epoch 60/500\n",
      "train Loss: 0.0000\n",
      "val Loss: 0.0093\n",
      "\n",
      "Epoch 70/500\n",
      "train Loss: 0.0000\n",
      "val Loss: 0.0082\n",
      "\n",
      "Epoch 80/500\n",
      "train Loss: 0.0000\n",
      "val Loss: 0.0063\n",
      "\n",
      "Epoch 90/500\n",
      "train Loss: 0.0000\n",
      "val Loss: 0.0044\n",
      "\n",
      "Epoch 100/500\n",
      "train Loss: 0.0000\n",
      "val Loss: 0.0033\n",
      "\n",
      "Epoch 110/500\n",
      "train Loss: 0.0000\n",
      "val Loss: 0.0032\n",
      "\n",
      "Epoch 120/500\n",
      "train Loss: 0.0000\n",
      "val Loss: 0.0026\n",
      "\n",
      "Epoch 130/500\n",
      "train Loss: 0.0000\n",
      "val Loss: 0.0023\n",
      "\n",
      "Epoch 140/500\n",
      "train Loss: 0.0000\n",
      "val Loss: 0.0022\n",
      "\n",
      "Epoch 150/500\n",
      "train Loss: 0.0000\n",
      "val Loss: 0.0019\n",
      "\n",
      "Epoch 160/500\n",
      "train Loss: 0.0000\n",
      "val Loss: 0.0019\n",
      "\n",
      "Epoch 170/500\n",
      "train Loss: 0.0000\n",
      "val Loss: 0.0018\n",
      "\n",
      "Epoch 180/500\n",
      "train Loss: 0.0000\n",
      "val Loss: 0.0019\n",
      "\n",
      "Epoch 190/500\n",
      "train Loss: 0.0000\n",
      "val Loss: 0.0016\n",
      "\n",
      "Epoch 200/500\n",
      "train Loss: 0.0000\n",
      "val Loss: 0.0016\n",
      "\n",
      "Epoch 210/500\n",
      "train Loss: 0.0000\n",
      "val Loss: 0.0015\n",
      "\n",
      "Epoch 220/500\n",
      "train Loss: 0.0000\n",
      "val Loss: 0.0015\n",
      "\n",
      "Epoch 230/500\n",
      "train Loss: 0.0000\n",
      "val Loss: 0.0015\n",
      "\n",
      "Epoch 240/500\n",
      "train Loss: 0.0000\n",
      "val Loss: 0.0017\n",
      "\n",
      "Epoch 250/500\n",
      "train Loss: 0.0000\n",
      "val Loss: 0.0015\n",
      "\n",
      "Epoch 260/500\n",
      "train Loss: 0.0000\n",
      "val Loss: 0.0015\n",
      "\n",
      "Epoch 270/500\n",
      "train Loss: 0.0000\n",
      "val Loss: 0.0014\n",
      "\n",
      "Epoch 280/500\n",
      "train Loss: 0.0000\n",
      "val Loss: 0.0013\n",
      "\n",
      "Epoch 290/500\n",
      "train Loss: 0.0000\n",
      "val Loss: 0.0013\n",
      "\n",
      "Epoch 300/500\n",
      "train Loss: 0.0000\n",
      "val Loss: 0.0014\n",
      "\n",
      "Epoch 310/500\n",
      "train Loss: 0.0000\n",
      "val Loss: 0.0016\n",
      "\n",
      "Epoch 320/500\n",
      "train Loss: 0.0000\n",
      "val Loss: 0.0016\n",
      "\n",
      "Epoch 330/500\n",
      "train Loss: 0.0000\n",
      "val Loss: 0.0015\n",
      "\n",
      "Epoch 340/500\n",
      "train Loss: 0.0000\n",
      "val Loss: 0.0014\n",
      "\n",
      "Epoch 350/500\n",
      "train Loss: 0.0000\n",
      "val Loss: 0.0014\n",
      "\n",
      "Epoch 360/500\n",
      "train Loss: 0.0000\n",
      "val Loss: 0.0014\n",
      "\n",
      "Epoch 370/500\n",
      "train Loss: 0.0000\n",
      "val Loss: 0.0013\n",
      "\n",
      "Epoch 380/500\n",
      "train Loss: 0.0000\n",
      "val Loss: 0.0016\n",
      "\n",
      "Epoch 390/500\n",
      "train Loss: 0.0000\n",
      "val Loss: 0.0015\n",
      "\n",
      "Epoch 400/500\n",
      "train Loss: 0.0000\n",
      "val Loss: 0.0013\n",
      "\n",
      "Epoch 410/500\n",
      "train Loss: 0.0000\n",
      "val Loss: 0.0014\n",
      "\n",
      "Epoch 420/500\n",
      "train Loss: 0.0000\n",
      "val Loss: 0.0014\n",
      "\n",
      "Epoch 430/500\n",
      "train Loss: 0.0000\n",
      "val Loss: 0.0015\n",
      "\n",
      "Epoch 440/500\n",
      "train Loss: 0.0000\n",
      "val Loss: 0.0016\n",
      "\n",
      "Epoch 450/500\n",
      "train Loss: 0.0000\n",
      "val Loss: 0.0014\n",
      "\n",
      "Epoch 460/500\n",
      "train Loss: 0.0000\n",
      "val Loss: 0.0016\n",
      "\n",
      "Epoch 470/500\n",
      "train Loss: 0.0000\n",
      "val Loss: 0.0016\n",
      "\n",
      "Epoch 480/500\n",
      "train Loss: 0.0000\n",
      "val Loss: 0.0015\n",
      "\n",
      "Epoch 490/500\n",
      "train Loss: 0.0000\n",
      "val Loss: 0.0016\n",
      "\n",
      "Epoch 500/500\n",
      "train Loss: 0.0000\n",
      "val Loss: 0.0014\n",
      "\n",
      "Training complete in 20m 9s\n",
      "Best val MSE: 0.001210\n"
     ]
    }
   ],
   "source": [
    "attn_trainer = Train_Test_Attention(train_loader, valid_loader, test_loader, input_size, device)\n",
    "attn_best_model, attn_train_loss_history, attn_val_loss_history, attn_scores = attn_trainer.train(attn_model, dataloaders_dict, criterion, num_epochs, optimizer)"
   ]
  },
  {
   "cell_type": "code",
   "execution_count": 72,
   "metadata": {},
   "outputs": [
    {
     "data": {
      "text/plain": [
       "Text(0, 0.5, 'loss')"
      ]
     },
     "execution_count": 72,
     "metadata": {},
     "output_type": "execute_result"
    },
    {
     "data": {
      "image/png": "[encoded data removed]",
      "text/plain": [
       "<Figure size 576x360 with 1 Axes>"
      ]
     },
     "metadata": {
      "needs_background": "light"
     },
     "output_type": "display_data"
    }
   ],
   "source": [
    "plt.figure(figsize=(8,5))\n",
    "plt.title('Loss History (Attention)')\n",
    "plt.plot(range(num_epochs), attn_train_loss_history, c='blue', label='Train Loss')\n",
    "plt.plot(range(num_epochs), attn_val_loss_history, c='red', label='Validation Loss')\n",
    "plt.legend()\n",
    "plt.xlabel('epoch')\n",
    "plt.ylabel('loss')"
   ]
  },
  {
   "cell_type": "code",
   "execution_count": 77,
   "metadata": {},
   "outputs": [],
   "source": [
    "torch.save(attn_best_model.state_dict(), attn_best_model_path)"
   ]
  },
  {
   "cell_type": "markdown",
   "metadata": {},
   "source": [
    "### 6. Model Validation"
   ]
  },
  {
   "cell_type": "markdown",
   "metadata": {},
   "source": [
    "#### 6.1 Load Model Weights(Parameters)"
   ]
  },
  {
   "cell_type": "code",
   "execution_count": 193,
   "metadata": {},
   "outputs": [
    {
     "data": {
      "text/plain": [
       "<All keys matched successfully>"
      ]
     },
     "execution_count": 193,
     "metadata": {},
     "output_type": "execute_result"
    }
   ],
   "source": [
    "rnn_model.load_state_dict(torch.load(rnn_best_model_path))\n",
    "lstm_model.load_state_dict(torch.load(lstm_best_model_path))\n",
    "gru_model.load_state_dict(torch.load(gru_best_model_path))\n",
    "attn_model.load_state_dict(torch.load(attn_best_model_path))"
   ]
  },
  {
   "cell_type": "code",
   "execution_count": 194,
   "metadata": {},
   "outputs": [],
   "source": [
    "def regression_report(y_true, y_pred):\n",
    "    r2 = r2_score(y_true, y_pred)\n",
    "    mae = mean_absolute_error(y_true, y_pred) \n",
    "    mse = mean_squared_error(y_true, y_pred) \n",
    "    rmse = np.sqrt(mse)\n",
    "    mape = mean_absolute_percentage_error(y_true, y_pred)\n",
    "      \n",
    "    print('The regression reports are as follows:')\n",
    "    print('r2: ', round(r2,4))\n",
    "    print('MAE: ', round(mae,4))\n",
    "    print('MSE: ', round(mse,4))\n",
    "    print('RMSE: ', round(rmse,4))\n",
    "    print('MAPE: ', round(mape,4))\n",
    "    return r2, mae, mse, rmse, mape"
   ]
  },
  {
   "cell_type": "code",
   "execution_count": 195,
   "metadata": {},
   "outputs": [],
   "source": [
    "y_test_inverse = y_scaler.inverse_transform(pd.DataFrame(y_test))\n",
    "y_train_inverse = y_scaler.inverse_transform(pd.DataFrame(y_train))\n",
    "y_valid_inverse = y_scaler.inverse_transform(pd.DataFrame(y_valid))"
   ]
  },
  {
   "cell_type": "code",
   "execution_count": 196,
   "metadata": {},
   "outputs": [
    {
     "name": "stdout",
     "output_type": "stream",
     "text": [
      "rnn\n",
      "The regression reports are as follows:\n",
      "r2:  0.9419\n",
      "MAE:  16.6391\n",
      "MSE:  329.0504\n",
      "RMSE:  18.1397\n",
      "MAPE:  0.3444\n",
      "lstm\n",
      "The regression reports are as follows:\n",
      "r2:  0.854\n",
      "MAE:  22.3828\n",
      "MSE:  827.3721\n",
      "RMSE:  28.7641\n",
      "MAPE:  0.4581\n",
      "gru\n",
      "The regression reports are as follows:\n",
      "r2:  0.6762\n",
      "MAE:  35.4722\n",
      "MSE:  1835.0152\n",
      "RMSE:  42.8371\n",
      "MAPE:  0.7264\n",
      "attn\n",
      "The regression reports are as follows:\n",
      "r2:  0.2776\n",
      "MAE:  55.894\n",
      "MSE:  4093.8973\n",
      "RMSE:  63.9836\n",
      "MAPE:  1.1467\n"
     ]
    }
   ],
   "source": [
    "name_list = []\n",
    "r2_list = []\n",
    "mae_list = []\n",
    "mse_list = []\n",
    "rmse_list = []\n",
    "mape_list = []\n",
    "\n",
    "results_df = pd.DataFrame()\n",
    "y_pred_df = pd.DataFrame()\n",
    "    \n",
    "for model_set in zip(['rnn', 'lstm', 'gru', 'attn'], \n",
    "                      [rnn_model, lstm_model, gru_model, attn_model], \n",
    "                      [rnn_trainer, lstm_trainer, gru_trainer, attn_trainer]):\n",
    "    name = model_set[0]\n",
    "    model = model_set[1]\n",
    "    trainer = model_set[2]\n",
    "    print(name)\n",
    "    try:\n",
    "        y_pred, mse = trainer.test(model, test_loader)\n",
    "    except:\n",
    "        y_pred, mse, attn_scores = trainer.test(model, test_loader)\n",
    "        \n",
    "    y_pred_inverse = y_scaler.inverse_transform(pd.DataFrame(y_pred))   \n",
    "    r2, mae, mse, rmse, mape = regression_report (y_test_inverse.flatten(), y_pred_inverse.flatten())\n",
    "    r2_list.append(r2)\n",
    "    mae_list.append(mae)\n",
    "    mse_list.append(mse)\n",
    "    rmse_list.append(rmse)\n",
    "    mape_list.append(mape)\n",
    "    name_list.append(name)\n",
    "    \n",
    "    y_train_concat = np.concatenate([y_train_inverse, y_valid_inverse], axis=0)\n",
    "    y_train = np.concatenate([y_train_concat, np.array([np.nan]*len(y_test_inverse)).reshape(len(y_test_inverse), -1)], axis=0)\n",
    "    y_test = np.concatenate([np.array([np.nan]*len(y_train_concat)).reshape(len(y_train_concat), -1), y_test_inverse], axis=0)\n",
    "    y_pred = np.concatenate([np.array([np.nan]*len(y_train_concat)).reshape(len(y_train_concat), -1), y_pred_inverse], axis=0)\n",
    "\n",
    "    y_train = pd.DataFrame(y_train, columns = [f'Train set'])\n",
    "    y_test = pd.DataFrame(y_test, columns = [f'Test set'])\n",
    "    y_pred = pd.DataFrame(y_pred, columns = [f'Predictions {name}'])\n",
    "    y_pred_df = pd.concat([y_pred_df, y_pred], axis=1)\n",
    "    \n",
    "results_df['Model'] = name_list\n",
    "results_df['R2 score'] = r2_list\n",
    "results_df['MAE'] = mae_list\n",
    "results_df['MSE'] = mse_list\n",
    "results_df['RMSE'] = rmse_list\n",
    "results_df['MAPE'] = mape_list"
   ]
  },
  {
   "cell_type": "code",
   "execution_count": 197,
   "metadata": {},
   "outputs": [
    {
     "data": {
      "text/html": [
       "<div>\n",
       "<style scoped>\n",
       "    .dataframe tbody tr th:only-of-type {\n",
       "        vertical-align: middle;\n",
       "    }\n",
       "\n",
       "    .dataframe tbody tr th {\n",
       "        vertical-align: top;\n",
       "    }\n",
       "\n",
       "    .dataframe thead th {\n",
       "        text-align: right;\n",
       "    }\n",
       "</style>\n",
       "<table border=\"1\" class=\"dataframe\">\n",
       "  <thead>\n",
       "    <tr style=\"text-align: right;\">\n",
       "      <th></th>\n",
       "      <th>Model</th>\n",
       "      <th>R2 score</th>\n",
       "      <th>MAE</th>\n",
       "      <th>MSE</th>\n",
       "      <th>RMSE</th>\n",
       "      <th>MAPE</th>\n",
       "    </tr>\n",
       "  </thead>\n",
       "  <tbody>\n",
       "    <tr>\n",
       "      <th>0</th>\n",
       "      <td>rnn</td>\n",
       "      <td>0.941933</td>\n",
       "      <td>16.639131</td>\n",
       "      <td>329.050386</td>\n",
       "      <td>18.139746</td>\n",
       "      <td>0.344363</td>\n",
       "    </tr>\n",
       "    <tr>\n",
       "      <th>1</th>\n",
       "      <td>lstm</td>\n",
       "      <td>0.853994</td>\n",
       "      <td>22.382835</td>\n",
       "      <td>827.372146</td>\n",
       "      <td>28.764077</td>\n",
       "      <td>0.458133</td>\n",
       "    </tr>\n",
       "    <tr>\n",
       "      <th>2</th>\n",
       "      <td>gru</td>\n",
       "      <td>0.676175</td>\n",
       "      <td>35.472218</td>\n",
       "      <td>1835.015232</td>\n",
       "      <td>42.837078</td>\n",
       "      <td>0.726390</td>\n",
       "    </tr>\n",
       "    <tr>\n",
       "      <th>3</th>\n",
       "      <td>attn</td>\n",
       "      <td>0.277551</td>\n",
       "      <td>55.894000</td>\n",
       "      <td>4093.897345</td>\n",
       "      <td>63.983571</td>\n",
       "      <td>1.146739</td>\n",
       "    </tr>\n",
       "  </tbody>\n",
       "</table>\n",
       "</div>"
      ],
      "text/plain": [
       "  Model  R2 score        MAE          MSE       RMSE      MAPE\n",
       "0   rnn  0.941933  16.639131   329.050386  18.139746  0.344363\n",
       "1  lstm  0.853994  22.382835   827.372146  28.764077  0.458133\n",
       "2   gru  0.676175  35.472218  1835.015232  42.837078  0.726390\n",
       "3  attn  0.277551  55.894000  4093.897345  63.983571  1.146739"
      ]
     },
     "execution_count": 197,
     "metadata": {},
     "output_type": "execute_result"
    }
   ],
   "source": [
    "results_df"
   ]
  },
  {
   "cell_type": "code",
   "execution_count": 198,
   "metadata": {},
   "outputs": [
    {
     "data": {
      "text/html": [
       "<div>\n",
       "<style scoped>\n",
       "    .dataframe tbody tr th:only-of-type {\n",
       "        vertical-align: middle;\n",
       "    }\n",
       "\n",
       "    .dataframe tbody tr th {\n",
       "        vertical-align: top;\n",
       "    }\n",
       "\n",
       "    .dataframe thead th {\n",
       "        text-align: right;\n",
       "    }\n",
       "</style>\n",
       "<table border=\"1\" class=\"dataframe\">\n",
       "  <thead>\n",
       "    <tr style=\"text-align: right;\">\n",
       "      <th></th>\n",
       "      <th>Predictions rnn</th>\n",
       "      <th>Predictions lstm</th>\n",
       "      <th>Predictions gru</th>\n",
       "      <th>Predictions attn</th>\n",
       "    </tr>\n",
       "  </thead>\n",
       "  <tbody>\n",
       "    <tr>\n",
       "      <th>0</th>\n",
       "      <td>NaN</td>\n",
       "      <td>NaN</td>\n",
       "      <td>NaN</td>\n",
       "      <td>NaN</td>\n",
       "    </tr>\n",
       "    <tr>\n",
       "      <th>1</th>\n",
       "      <td>NaN</td>\n",
       "      <td>NaN</td>\n",
       "      <td>NaN</td>\n",
       "      <td>NaN</td>\n",
       "    </tr>\n",
       "    <tr>\n",
       "      <th>2</th>\n",
       "      <td>NaN</td>\n",
       "      <td>NaN</td>\n",
       "      <td>NaN</td>\n",
       "      <td>NaN</td>\n",
       "    </tr>\n",
       "    <tr>\n",
       "      <th>3</th>\n",
       "      <td>NaN</td>\n",
       "      <td>NaN</td>\n",
       "      <td>NaN</td>\n",
       "      <td>NaN</td>\n",
       "    </tr>\n",
       "    <tr>\n",
       "      <th>4</th>\n",
       "      <td>NaN</td>\n",
       "      <td>NaN</td>\n",
       "      <td>NaN</td>\n",
       "      <td>NaN</td>\n",
       "    </tr>\n",
       "    <tr>\n",
       "      <th>...</th>\n",
       "      <td>...</td>\n",
       "      <td>...</td>\n",
       "      <td>...</td>\n",
       "      <td>...</td>\n",
       "    </tr>\n",
       "    <tr>\n",
       "      <th>40547</th>\n",
       "      <td>4903.842285</td>\n",
       "      <td>4858.712891</td>\n",
       "      <td>4837.789062</td>\n",
       "      <td>4825.676270</td>\n",
       "    </tr>\n",
       "    <tr>\n",
       "      <th>40548</th>\n",
       "      <td>4903.981934</td>\n",
       "      <td>4858.898926</td>\n",
       "      <td>4837.808594</td>\n",
       "      <td>4825.708496</td>\n",
       "    </tr>\n",
       "    <tr>\n",
       "      <th>40549</th>\n",
       "      <td>4904.152344</td>\n",
       "      <td>4859.000977</td>\n",
       "      <td>4838.000488</td>\n",
       "      <td>4825.783691</td>\n",
       "    </tr>\n",
       "    <tr>\n",
       "      <th>40550</th>\n",
       "      <td>4904.788086</td>\n",
       "      <td>4859.812988</td>\n",
       "      <td>4838.664551</td>\n",
       "      <td>4826.336426</td>\n",
       "    </tr>\n",
       "    <tr>\n",
       "      <th>40551</th>\n",
       "      <td>4904.533203</td>\n",
       "      <td>4859.660156</td>\n",
       "      <td>4838.495605</td>\n",
       "      <td>4826.408691</td>\n",
       "    </tr>\n",
       "  </tbody>\n",
       "</table>\n",
       "<p>40552 rows × 4 columns</p>\n",
       "</div>"
      ],
      "text/plain": [
       "       Predictions rnn  Predictions lstm  Predictions gru  Predictions attn\n",
       "0                  NaN               NaN              NaN               NaN\n",
       "1                  NaN               NaN              NaN               NaN\n",
       "2                  NaN               NaN              NaN               NaN\n",
       "3                  NaN               NaN              NaN               NaN\n",
       "4                  NaN               NaN              NaN               NaN\n",
       "...                ...               ...              ...               ...\n",
       "40547      4903.842285       4858.712891      4837.789062       4825.676270\n",
       "40548      4903.981934       4858.898926      4837.808594       4825.708496\n",
       "40549      4904.152344       4859.000977      4838.000488       4825.783691\n",
       "40550      4904.788086       4859.812988      4838.664551       4826.336426\n",
       "40551      4904.533203       4859.660156      4838.495605       4826.408691\n",
       "\n",
       "[40552 rows x 4 columns]"
      ]
     },
     "execution_count": 198,
     "metadata": {},
     "output_type": "execute_result"
    }
   ],
   "source": [
    "y_pred_df"
   ]
  },
  {
   "cell_type": "code",
   "execution_count": 200,
   "metadata": {},
   "outputs": [
    {
     "data": {
      "image/png": "[encoded data removed]",
      "text/plain": [
       "<Figure size 1152x432 with 1 Axes>"
      ]
     },
     "metadata": {
      "needs_background": "light"
     },
     "output_type": "display_data"
    }
   ],
   "source": [
    "plt.figure(figsize=(16,6))\n",
    "plt.title('RNN regression results', fontsize=12)\n",
    "plt.xlabel('Date', fontsize=12)\n",
    "plt.ylabel('NASDAQ 100 Index', fontsize=12)\n",
    "plt.axvline(x=len(y_train_concat), color='r', label='Start Prediction', ls='--')\n",
    "plt.plot(y_train['Train set'])\n",
    "plt.plot(y_test['Test set'])\n",
    "plt.plot(y_pred_df['Predictions rnn'])\n",
    "plt.plot(y_pred_df['Predictions lstm'])\n",
    "plt.plot(y_pred_df['Predictions gru'])\n",
    "plt.plot(y_pred_df['Predictions attn'])\n",
    "plt.legend(['Start Prediction', 'Train set', 'Test set', \n",
    "            'Predictions (RNN)', 'Predictions (LSTM)',\n",
    "            'Predictions (GRU)', 'Predictions (Attention)'], loc='lower right')\n",
    "plt.show()"
   ]
  },
  {
   "cell_type": "markdown",
   "metadata": {
    "id": "gqBHwh5-nq_q"
   },
   "source": [
    "# EOD"
   ]
  }
 ],
 "metadata": {
  "colab": {
   "collapsed_sections": [],
   "name": "통계기반시계열분석 2회차 - 1.ipynb",
   "provenance": [
    {
     "file_id": "https://github.com/Jiyoon52/LG_time_series_day02_dataset/blob/main/%ED%86%B5%EA%B3%84%EA%B8%B0%EB%B0%98%EC%8B%9C%EA%B3%84%EC%97%B4%EB%B6%84%EC%84%9D%202%ED%9A%8C%EC%B0%A8%20-%201.ipynb",
     "timestamp": 1642046886935
    }
   ]
  },
  "kernelspec": {
   "display_name": "Python 3 (ipykernel)",
   "language": "python",
   "name": "python3"
  },
  "language_info": {
   "codemirror_mode": {
    "name": "ipython",
    "version": 3
   },
   "file_extension": ".py",
   "mimetype": "text/x-python",
   "name": "python",
   "nbconvert_exporter": "python",
   "pygments_lexer": "ipython3",
   "version": "3.7.11"
  },
  "toc": {
   "base_numbering": "1",
   "nav_menu": {},
   "number_sections": false,
   "sideBar": true,
   "skip_h1_title": false,
   "title_cell": "Table of Contents",
   "title_sidebar": "Contents",
   "toc_cell": false,
   "toc_position": {
    "height": "calc(100% - 180px)",
    "left": "10px",
    "top": "150px",
    "width": "357.448px"
   },
   "toc_section_display": true,
   "toc_window_display": true
  }
 },
 "nbformat": 4,
 "nbformat_minor": 1
}
